{
 "cells": [
  {
   "cell_type": "markdown",
   "id": "2f6d4b54-e2c6-4793-bfde-c39c495171c3",
   "metadata": {},
   "source": [
    "## Regresor IR\n",
    "Predecir ASCI utilizando lo Espectros InfraRojos (IR) \n",
    "SVR - PLS coniteraciones en el random state\n"
   ]
  },
  {
   "cell_type": "markdown",
   "id": "651f2d79-d3b2-4eb6-8fde-3f02c2922c58",
   "metadata": {},
   "source": [
    "## Librerias"
   ]
  },
  {
   "cell_type": "code",
   "execution_count": 1,
   "id": "821da3d8-f4dd-4621-a233-883d0418dcfe",
   "metadata": {},
   "outputs": [],
   "source": [
    "#librerias\n",
    "\n",
    "#Tratamiento Datos\n",
    "import numpy as np\n",
    "import pandas as pd\n",
    "import sklearn\n",
    "from sklearn.preprocessing import Normalizer # Normalizacion de datos\n",
    "\n",
    "\n",
    "#Librerias Creacion de Modelos\n",
    "from sklearn.model_selection import train_test_split #Partir datos de prueba y entrenamiento\n",
    "from sklearn.preprocessing import StandardScaler    #Normalizar datos para manejar la misma escala\n",
    "from sklearn.decomposition import PCA   #Algoritmo PCA\n",
    "from sklearn.svm import SVC\n",
    "from sklearn.discriminant_analysis import LinearDiscriminantAnalysis\n",
    "\n",
    "#Red Neuronal\n",
    "from keras import layers, models\n",
    "from tensorflow.keras.utils import to_categorical\n",
    "from keras.datasets import mnist #importar dataset mnist (numeros)\n",
    "import sklearn\n",
    "from sklearn.model_selection import train_test_split\n",
    "from sklearn.neural_network import MLPClassifier\n",
    "from sklearn.neural_network import MLPRegressor\n",
    "import tensorflow as tf\n",
    "\n",
    "\n",
    "#Librerias Metricas\n",
    "from sklearn.metrics import accuracy_score\n",
    "from sklearn.metrics import mean_absolute_error\n",
    "from sklearn.model_selection import cross_val_score\n",
    "\n",
    "\n",
    "#Graficas\n",
    "import matplotlib.pyplot as plt\n"
   ]
  },
  {
   "cell_type": "code",
   "execution_count": 3,
   "id": "8c270727-2dd1-4fd4-925b-75d30289e30a",
   "metadata": {},
   "outputs": [
    {
     "name": "stdout",
     "output_type": "stream",
     "text": [
      "1.0.2\n",
      "1.3.5\n"
     ]
    }
   ],
   "source": [
    "print(sklearn.__version__)  # chekear si el ambiente funciona\n",
    "print(pd.__version__)"
   ]
  },
  {
   "cell_type": "markdown",
   "id": "eb2879fc-ecef-4131-9877-06cec089ad0b",
   "metadata": {},
   "source": [
    "## **Tratamiento Datos**\n"
   ]
  },
  {
   "cell_type": "markdown",
   "id": "28773efc-7b20-4b47-8e2a-3e2856597cc3",
   "metadata": {},
   "source": [
    "### Importar Datos IR"
   ]
  },
  {
   "cell_type": "code",
   "execution_count": 6,
   "id": "c5843543-4a0c-4093-9fd9-e6095a5cc0f8",
   "metadata": {},
   "outputs": [
    {
     "name": "stdout",
     "output_type": "stream",
     "text": [
      "(82, 7469)\n"
     ]
    },
    {
     "data": {
      "text/html": [
       "<div>\n",
       "<style scoped>\n",
       "    .dataframe tbody tr th:only-of-type {\n",
       "        vertical-align: middle;\n",
       "    }\n",
       "\n",
       "    .dataframe tbody tr th {\n",
       "        vertical-align: top;\n",
       "    }\n",
       "\n",
       "    .dataframe thead th {\n",
       "        text-align: right;\n",
       "    }\n",
       "</style>\n",
       "<table border=\"1\" class=\"dataframe\">\n",
       "  <thead>\n",
       "    <tr style=\"text-align: right;\">\n",
       "      <th></th>\n",
       "      <th>Unnamed: 0</th>\n",
       "      <th>0</th>\n",
       "      <th>1</th>\n",
       "      <th>2</th>\n",
       "      <th>3</th>\n",
       "      <th>4</th>\n",
       "      <th>5</th>\n",
       "      <th>6</th>\n",
       "      <th>7</th>\n",
       "      <th>8</th>\n",
       "      <th>...</th>\n",
       "      <th>7458</th>\n",
       "      <th>7459</th>\n",
       "      <th>7460</th>\n",
       "      <th>7461</th>\n",
       "      <th>7462</th>\n",
       "      <th>7463</th>\n",
       "      <th>7464</th>\n",
       "      <th>7465</th>\n",
       "      <th>7466</th>\n",
       "      <th>7467</th>\n",
       "    </tr>\n",
       "  </thead>\n",
       "  <tbody>\n",
       "    <tr>\n",
       "      <th>0</th>\n",
       "      <td>0</td>\n",
       "      <td>0.011097</td>\n",
       "      <td>0.011199</td>\n",
       "      <td>0.010985</td>\n",
       "      <td>0.010543</td>\n",
       "      <td>0.010022</td>\n",
       "      <td>0.009558</td>\n",
       "      <td>0.009238</td>\n",
       "      <td>0.009085</td>\n",
       "      <td>0.009071</td>\n",
       "      <td>...</td>\n",
       "      <td>0.007546</td>\n",
       "      <td>0.007546</td>\n",
       "      <td>0.007545</td>\n",
       "      <td>0.007542</td>\n",
       "      <td>0.007537</td>\n",
       "      <td>0.007530</td>\n",
       "      <td>0.007522</td>\n",
       "      <td>0.007512</td>\n",
       "      <td>0.007503</td>\n",
       "      <td>0.007494</td>\n",
       "    </tr>\n",
       "    <tr>\n",
       "      <th>1</th>\n",
       "      <td>1</td>\n",
       "      <td>0.012468</td>\n",
       "      <td>0.012486</td>\n",
       "      <td>0.012449</td>\n",
       "      <td>0.012386</td>\n",
       "      <td>0.012352</td>\n",
       "      <td>0.012396</td>\n",
       "      <td>0.012543</td>\n",
       "      <td>0.012782</td>\n",
       "      <td>0.013081</td>\n",
       "      <td>...</td>\n",
       "      <td>0.003964</td>\n",
       "      <td>0.003966</td>\n",
       "      <td>0.003967</td>\n",
       "      <td>0.003967</td>\n",
       "      <td>0.003967</td>\n",
       "      <td>0.003969</td>\n",
       "      <td>0.003970</td>\n",
       "      <td>0.003973</td>\n",
       "      <td>0.003975</td>\n",
       "      <td>0.003976</td>\n",
       "    </tr>\n",
       "    <tr>\n",
       "      <th>2</th>\n",
       "      <td>2</td>\n",
       "      <td>0.018689</td>\n",
       "      <td>0.018286</td>\n",
       "      <td>0.017887</td>\n",
       "      <td>0.017561</td>\n",
       "      <td>0.017360</td>\n",
       "      <td>0.017291</td>\n",
       "      <td>0.017324</td>\n",
       "      <td>0.017413</td>\n",
       "      <td>0.017528</td>\n",
       "      <td>...</td>\n",
       "      <td>0.000043</td>\n",
       "      <td>0.000035</td>\n",
       "      <td>0.000026</td>\n",
       "      <td>0.000016</td>\n",
       "      <td>0.000008</td>\n",
       "      <td>0.000003</td>\n",
       "      <td>0.000000</td>\n",
       "      <td>0.000001</td>\n",
       "      <td>0.000006</td>\n",
       "      <td>0.000013</td>\n",
       "    </tr>\n",
       "    <tr>\n",
       "      <th>3</th>\n",
       "      <td>3</td>\n",
       "      <td>0.015869</td>\n",
       "      <td>0.015885</td>\n",
       "      <td>0.015737</td>\n",
       "      <td>0.015513</td>\n",
       "      <td>0.015276</td>\n",
       "      <td>0.015056</td>\n",
       "      <td>0.014842</td>\n",
       "      <td>0.014605</td>\n",
       "      <td>0.014319</td>\n",
       "      <td>...</td>\n",
       "      <td>0.011477</td>\n",
       "      <td>0.011465</td>\n",
       "      <td>0.011455</td>\n",
       "      <td>0.011450</td>\n",
       "      <td>0.011447</td>\n",
       "      <td>0.011448</td>\n",
       "      <td>0.011453</td>\n",
       "      <td>0.011460</td>\n",
       "      <td>0.011469</td>\n",
       "      <td>0.011480</td>\n",
       "    </tr>\n",
       "    <tr>\n",
       "      <th>4</th>\n",
       "      <td>4</td>\n",
       "      <td>0.006940</td>\n",
       "      <td>0.006977</td>\n",
       "      <td>0.006766</td>\n",
       "      <td>0.006420</td>\n",
       "      <td>0.006081</td>\n",
       "      <td>0.005889</td>\n",
       "      <td>0.005934</td>\n",
       "      <td>0.006241</td>\n",
       "      <td>0.006779</td>\n",
       "      <td>...</td>\n",
       "      <td>0.003165</td>\n",
       "      <td>0.003165</td>\n",
       "      <td>0.003163</td>\n",
       "      <td>0.003158</td>\n",
       "      <td>0.003152</td>\n",
       "      <td>0.003147</td>\n",
       "      <td>0.003144</td>\n",
       "      <td>0.003142</td>\n",
       "      <td>0.003143</td>\n",
       "      <td>0.003145</td>\n",
       "    </tr>\n",
       "  </tbody>\n",
       "</table>\n",
       "<p>5 rows × 7469 columns</p>\n",
       "</div>"
      ],
      "text/plain": [
       "   Unnamed: 0         0         1         2         3         4         5  \\\n",
       "0           0  0.011097  0.011199  0.010985  0.010543  0.010022  0.009558   \n",
       "1           1  0.012468  0.012486  0.012449  0.012386  0.012352  0.012396   \n",
       "2           2  0.018689  0.018286  0.017887  0.017561  0.017360  0.017291   \n",
       "3           3  0.015869  0.015885  0.015737  0.015513  0.015276  0.015056   \n",
       "4           4  0.006940  0.006977  0.006766  0.006420  0.006081  0.005889   \n",
       "\n",
       "          6         7         8  ...      7458      7459      7460      7461  \\\n",
       "0  0.009238  0.009085  0.009071  ...  0.007546  0.007546  0.007545  0.007542   \n",
       "1  0.012543  0.012782  0.013081  ...  0.003964  0.003966  0.003967  0.003967   \n",
       "2  0.017324  0.017413  0.017528  ...  0.000043  0.000035  0.000026  0.000016   \n",
       "3  0.014842  0.014605  0.014319  ...  0.011477  0.011465  0.011455  0.011450   \n",
       "4  0.005934  0.006241  0.006779  ...  0.003165  0.003165  0.003163  0.003158   \n",
       "\n",
       "       7462      7463      7464      7465      7466      7467  \n",
       "0  0.007537  0.007530  0.007522  0.007512  0.007503  0.007494  \n",
       "1  0.003967  0.003969  0.003970  0.003973  0.003975  0.003976  \n",
       "2  0.000008  0.000003  0.000000  0.000001  0.000006  0.000013  \n",
       "3  0.011447  0.011448  0.011453  0.011460  0.011469  0.011480  \n",
       "4  0.003152  0.003147  0.003144  0.003142  0.003143  0.003145  \n",
       "\n",
       "[5 rows x 7469 columns]"
      ]
     },
     "execution_count": 6,
     "metadata": {},
     "output_type": "execute_result"
    }
   ],
   "source": [
    "#En las columnas están las muestras (82) y sus espectros ir\n",
    "Datos_IR = pd.read_excel(\"Data/ASCI_IR.xlsx\") #import dtframe ,skipinitialspace=True, skiprows=1\n",
    "\n",
    "print(Datos_IR.shape)#Ver tamaño dataset\n",
    "Datos_IR.head() #print dt frame"
   ]
  },
  {
   "cell_type": "code",
   "execution_count": 7,
   "id": "cdb70fef-82f9-4903-8f39-0dcac8b56162",
   "metadata": {},
   "outputs": [
    {
     "name": "stdout",
     "output_type": "stream",
     "text": [
      "(82, 7468)\n"
     ]
    },
    {
     "data": {
      "text/html": [
       "<div>\n",
       "<style scoped>\n",
       "    .dataframe tbody tr th:only-of-type {\n",
       "        vertical-align: middle;\n",
       "    }\n",
       "\n",
       "    .dataframe tbody tr th {\n",
       "        vertical-align: top;\n",
       "    }\n",
       "\n",
       "    .dataframe thead th {\n",
       "        text-align: right;\n",
       "    }\n",
       "</style>\n",
       "<table border=\"1\" class=\"dataframe\">\n",
       "  <thead>\n",
       "    <tr style=\"text-align: right;\">\n",
       "      <th></th>\n",
       "      <th>0</th>\n",
       "      <th>1</th>\n",
       "      <th>2</th>\n",
       "      <th>3</th>\n",
       "      <th>4</th>\n",
       "      <th>5</th>\n",
       "      <th>6</th>\n",
       "      <th>7</th>\n",
       "      <th>8</th>\n",
       "      <th>9</th>\n",
       "      <th>...</th>\n",
       "      <th>7458</th>\n",
       "      <th>7459</th>\n",
       "      <th>7460</th>\n",
       "      <th>7461</th>\n",
       "      <th>7462</th>\n",
       "      <th>7463</th>\n",
       "      <th>7464</th>\n",
       "      <th>7465</th>\n",
       "      <th>7466</th>\n",
       "      <th>7467</th>\n",
       "    </tr>\n",
       "  </thead>\n",
       "  <tbody>\n",
       "    <tr>\n",
       "      <th>0</th>\n",
       "      <td>0.011097</td>\n",
       "      <td>0.011199</td>\n",
       "      <td>0.010985</td>\n",
       "      <td>0.010543</td>\n",
       "      <td>0.010022</td>\n",
       "      <td>0.009558</td>\n",
       "      <td>0.009238</td>\n",
       "      <td>0.009085</td>\n",
       "      <td>0.009071</td>\n",
       "      <td>0.009146</td>\n",
       "      <td>...</td>\n",
       "      <td>0.007546</td>\n",
       "      <td>0.007546</td>\n",
       "      <td>0.007545</td>\n",
       "      <td>0.007542</td>\n",
       "      <td>0.007537</td>\n",
       "      <td>0.007530</td>\n",
       "      <td>0.007522</td>\n",
       "      <td>0.007512</td>\n",
       "      <td>0.007503</td>\n",
       "      <td>0.007494</td>\n",
       "    </tr>\n",
       "    <tr>\n",
       "      <th>1</th>\n",
       "      <td>0.012468</td>\n",
       "      <td>0.012486</td>\n",
       "      <td>0.012449</td>\n",
       "      <td>0.012386</td>\n",
       "      <td>0.012352</td>\n",
       "      <td>0.012396</td>\n",
       "      <td>0.012543</td>\n",
       "      <td>0.012782</td>\n",
       "      <td>0.013081</td>\n",
       "      <td>0.013398</td>\n",
       "      <td>...</td>\n",
       "      <td>0.003964</td>\n",
       "      <td>0.003966</td>\n",
       "      <td>0.003967</td>\n",
       "      <td>0.003967</td>\n",
       "      <td>0.003967</td>\n",
       "      <td>0.003969</td>\n",
       "      <td>0.003970</td>\n",
       "      <td>0.003973</td>\n",
       "      <td>0.003975</td>\n",
       "      <td>0.003976</td>\n",
       "    </tr>\n",
       "    <tr>\n",
       "      <th>2</th>\n",
       "      <td>0.018689</td>\n",
       "      <td>0.018286</td>\n",
       "      <td>0.017887</td>\n",
       "      <td>0.017561</td>\n",
       "      <td>0.017360</td>\n",
       "      <td>0.017291</td>\n",
       "      <td>0.017324</td>\n",
       "      <td>0.017413</td>\n",
       "      <td>0.017528</td>\n",
       "      <td>0.017675</td>\n",
       "      <td>...</td>\n",
       "      <td>0.000043</td>\n",
       "      <td>0.000035</td>\n",
       "      <td>0.000026</td>\n",
       "      <td>0.000016</td>\n",
       "      <td>0.000008</td>\n",
       "      <td>0.000003</td>\n",
       "      <td>0.000000</td>\n",
       "      <td>0.000001</td>\n",
       "      <td>0.000006</td>\n",
       "      <td>0.000013</td>\n",
       "    </tr>\n",
       "    <tr>\n",
       "      <th>3</th>\n",
       "      <td>0.015869</td>\n",
       "      <td>0.015885</td>\n",
       "      <td>0.015737</td>\n",
       "      <td>0.015513</td>\n",
       "      <td>0.015276</td>\n",
       "      <td>0.015056</td>\n",
       "      <td>0.014842</td>\n",
       "      <td>0.014605</td>\n",
       "      <td>0.014319</td>\n",
       "      <td>0.013989</td>\n",
       "      <td>...</td>\n",
       "      <td>0.011477</td>\n",
       "      <td>0.011465</td>\n",
       "      <td>0.011455</td>\n",
       "      <td>0.011450</td>\n",
       "      <td>0.011447</td>\n",
       "      <td>0.011448</td>\n",
       "      <td>0.011453</td>\n",
       "      <td>0.011460</td>\n",
       "      <td>0.011469</td>\n",
       "      <td>0.011480</td>\n",
       "    </tr>\n",
       "    <tr>\n",
       "      <th>4</th>\n",
       "      <td>0.006940</td>\n",
       "      <td>0.006977</td>\n",
       "      <td>0.006766</td>\n",
       "      <td>0.006420</td>\n",
       "      <td>0.006081</td>\n",
       "      <td>0.005889</td>\n",
       "      <td>0.005934</td>\n",
       "      <td>0.006241</td>\n",
       "      <td>0.006779</td>\n",
       "      <td>0.007492</td>\n",
       "      <td>...</td>\n",
       "      <td>0.003165</td>\n",
       "      <td>0.003165</td>\n",
       "      <td>0.003163</td>\n",
       "      <td>0.003158</td>\n",
       "      <td>0.003152</td>\n",
       "      <td>0.003147</td>\n",
       "      <td>0.003144</td>\n",
       "      <td>0.003142</td>\n",
       "      <td>0.003143</td>\n",
       "      <td>0.003145</td>\n",
       "    </tr>\n",
       "  </tbody>\n",
       "</table>\n",
       "<p>5 rows × 7468 columns</p>\n",
       "</div>"
      ],
      "text/plain": [
       "       0         1         2         3         4         5         6     \\\n",
       "0  0.011097  0.011199  0.010985  0.010543  0.010022  0.009558  0.009238   \n",
       "1  0.012468  0.012486  0.012449  0.012386  0.012352  0.012396  0.012543   \n",
       "2  0.018689  0.018286  0.017887  0.017561  0.017360  0.017291  0.017324   \n",
       "3  0.015869  0.015885  0.015737  0.015513  0.015276  0.015056  0.014842   \n",
       "4  0.006940  0.006977  0.006766  0.006420  0.006081  0.005889  0.005934   \n",
       "\n",
       "       7         8         9     ...      7458      7459      7460      7461  \\\n",
       "0  0.009085  0.009071  0.009146  ...  0.007546  0.007546  0.007545  0.007542   \n",
       "1  0.012782  0.013081  0.013398  ...  0.003964  0.003966  0.003967  0.003967   \n",
       "2  0.017413  0.017528  0.017675  ...  0.000043  0.000035  0.000026  0.000016   \n",
       "3  0.014605  0.014319  0.013989  ...  0.011477  0.011465  0.011455  0.011450   \n",
       "4  0.006241  0.006779  0.007492  ...  0.003165  0.003165  0.003163  0.003158   \n",
       "\n",
       "       7462      7463      7464      7465      7466      7467  \n",
       "0  0.007537  0.007530  0.007522  0.007512  0.007503  0.007494  \n",
       "1  0.003967  0.003969  0.003970  0.003973  0.003975  0.003976  \n",
       "2  0.000008  0.000003  0.000000  0.000001  0.000006  0.000013  \n",
       "3  0.011447  0.011448  0.011453  0.011460  0.011469  0.011480  \n",
       "4  0.003152  0.003147  0.003144  0.003142  0.003143  0.003145  \n",
       "\n",
       "[5 rows x 7468 columns]"
      ]
     },
     "execution_count": 7,
     "metadata": {},
     "output_type": "execute_result"
    }
   ],
   "source": [
    "Datos_IR=Datos_IR.drop(Datos_IR.columns[0], axis=1)\n",
    "print(Datos_IR.shape)\n",
    "Datos_IR.head()"
   ]
  },
  {
   "cell_type": "code",
   "execution_count": 8,
   "id": "1a6e7156-db49-4409-af76-638ea6e55514",
   "metadata": {},
   "outputs": [],
   "source": [
    "# # IR transpose\n",
    "\n",
    "# Datos_IR = Datos_IR.transpose()\n",
    "# print(Datos_IR.shape)\n",
    "# Datos_IR.head()"
   ]
  },
  {
   "cell_type": "code",
   "execution_count": 9,
   "id": "a573d028-0ce1-4a27-b045-c401ef69fc0a",
   "metadata": {},
   "outputs": [],
   "source": [
    "# Datos_IR=Datos_IR.drop(Datos_IR.columns[0], axis=1)\n",
    "# Datos_IR.head()"
   ]
  },
  {
   "cell_type": "markdown",
   "id": "2c850559-e5ad-47aa-9869-36d4f802348a",
   "metadata": {},
   "source": [
    "### Definir features y targets"
   ]
  },
  {
   "cell_type": "code",
   "execution_count": 10,
   "id": "d1449be3-47db-42d5-85f8-bc6f9b4b8022",
   "metadata": {},
   "outputs": [
    {
     "name": "stdout",
     "output_type": "stream",
     "text": [
      "(82, 1)\n"
     ]
    },
    {
     "data": {
      "text/html": [
       "<div>\n",
       "<style scoped>\n",
       "    .dataframe tbody tr th:only-of-type {\n",
       "        vertical-align: middle;\n",
       "    }\n",
       "\n",
       "    .dataframe tbody tr th {\n",
       "        vertical-align: top;\n",
       "    }\n",
       "\n",
       "    .dataframe thead th {\n",
       "        text-align: right;\n",
       "    }\n",
       "</style>\n",
       "<table border=\"1\" class=\"dataframe\">\n",
       "  <thead>\n",
       "    <tr style=\"text-align: right;\">\n",
       "      <th></th>\n",
       "      <th>label</th>\n",
       "    </tr>\n",
       "  </thead>\n",
       "  <tbody>\n",
       "    <tr>\n",
       "      <th>0</th>\n",
       "      <td>10</td>\n",
       "    </tr>\n",
       "    <tr>\n",
       "      <th>1</th>\n",
       "      <td>10</td>\n",
       "    </tr>\n",
       "    <tr>\n",
       "      <th>2</th>\n",
       "      <td>13</td>\n",
       "    </tr>\n",
       "    <tr>\n",
       "      <th>3</th>\n",
       "      <td>11</td>\n",
       "    </tr>\n",
       "    <tr>\n",
       "      <th>4</th>\n",
       "      <td>11</td>\n",
       "    </tr>\n",
       "    <tr>\n",
       "      <th>...</th>\n",
       "      <td>...</td>\n",
       "    </tr>\n",
       "    <tr>\n",
       "      <th>77</th>\n",
       "      <td>8</td>\n",
       "    </tr>\n",
       "    <tr>\n",
       "      <th>78</th>\n",
       "      <td>10</td>\n",
       "    </tr>\n",
       "    <tr>\n",
       "      <th>79</th>\n",
       "      <td>9</td>\n",
       "    </tr>\n",
       "    <tr>\n",
       "      <th>80</th>\n",
       "      <td>11</td>\n",
       "    </tr>\n",
       "    <tr>\n",
       "      <th>81</th>\n",
       "      <td>12</td>\n",
       "    </tr>\n",
       "  </tbody>\n",
       "</table>\n",
       "<p>82 rows × 1 columns</p>\n",
       "</div>"
      ],
      "text/plain": [
       "    label\n",
       "0      10\n",
       "1      10\n",
       "2      13\n",
       "3      11\n",
       "4      11\n",
       "..    ...\n",
       "77      8\n",
       "78     10\n",
       "79      9\n",
       "80     11\n",
       "81     12\n",
       "\n",
       "[82 rows x 1 columns]"
      ]
     },
     "execution_count": 10,
     "metadata": {},
     "output_type": "execute_result"
    }
   ],
   "source": [
    "#En las columnas están las muestras (82) y sus espectros ir\n",
    "Datos_IR_Target = pd.read_excel(\"Data/ASCI_IR.xlsx\", sheet_name='ASCI')#import dtframe ,skipinitialspace=True, skiprows=1\n",
    "\n",
    "print(Datos_IR_Target.shape)#Ver tamaño dataset\n",
    "Datos_IR_Target #print dt frame"
   ]
  },
  {
   "cell_type": "code",
   "execution_count": 11,
   "id": "dc6b03e9-2e34-40e6-baad-3957e1e44d28",
   "metadata": {},
   "outputs": [
    {
     "data": {
      "text/plain": [
       "array([[1.10966015e-02, 1.11991453e-02, 1.09848555e-02, ...,\n",
       "        7.51200917e-03, 7.50250605e-03, 7.49422931e-03],\n",
       "       [1.24679071e-02, 1.24862852e-02, 1.24491321e-02, ...,\n",
       "        3.97298076e-03, 3.97471363e-03, 3.97558006e-03],\n",
       "       [1.86894114e-02, 1.82859382e-02, 1.78871333e-02, ...,\n",
       "        1.27441867e-06, 5.94731911e-06, 1.27443550e-05],\n",
       "       ...,\n",
       "       [1.45187850e-02, 1.53134737e-02, 1.64545678e-02, ...,\n",
       "        1.18493698e-02, 1.18557313e-02, 1.18633563e-02],\n",
       "       [1.20981036e-02, 1.35690496e-02, 1.48558137e-02, ...,\n",
       "        4.20803575e-03, 4.20305128e-03, 4.19621426e-03],\n",
       "       [3.64273530e-02, 3.65206370e-02, 3.63052743e-02, ...,\n",
       "        9.59961893e-06, 5.00847036e-06, 0.00000000e+00]])"
      ]
     },
     "execution_count": 11,
     "metadata": {},
     "output_type": "execute_result"
    }
   ],
   "source": [
    "dt_features= Datos_IR.values[:,:] \n",
    "dt_features\n",
    "\n"
   ]
  },
  {
   "cell_type": "code",
   "execution_count": 16,
   "id": "fe505b14-dd48-42eb-8f94-d4b5e84db657",
   "metadata": {},
   "outputs": [
    {
     "data": {
      "text/plain": [
       "array([10, 13, 11, 11, 14, 10, 14, 16, 18, 16, 12, 15, 17, 10, 12, 12, 12,\n",
       "       15, 19, 15, 11, 12, 17, 11, 11, 16, 19, 20, 16, 13, 15, 13, 14, 13,\n",
       "        5, 11, 12, 18, 15, 17, 16, 17, 12, 17,  8, 17, 17, 17, 17,  6, 17,\n",
       "       12, 15, 14, 20, 20, 11, 16, 17, 17, 13, 15, 16, 15, 14, 15, 10, 20,\n",
       "       14, 20, 10,  9, 13, 11, 12, 13,  8, 10,  9, 11, 12, 11],\n",
       "      dtype=int64)"
      ]
     },
     "execution_count": 16,
     "metadata": {},
     "output_type": "execute_result"
    }
   ],
   "source": [
    "dt_target= Datos_IR_Target.values[:,0] \n",
    "dt_target"
   ]
  },
  {
   "cell_type": "code",
   "execution_count": 17,
   "id": "418bc67b-58ed-42d3-8df7-ea9278e9faff",
   "metadata": {},
   "outputs": [],
   "source": [
    "#dt_features= vals_Feature[:,1:] \n",
    "# dt_target = vals[:,0] "
   ]
  },
  {
   "cell_type": "code",
   "execution_count": 18,
   "id": "6feb8c4a-2fe4-4786-98f6-b97b9ad97a74",
   "metadata": {},
   "outputs": [],
   "source": [
    "#dt_features"
   ]
  },
  {
   "cell_type": "code",
   "execution_count": 19,
   "id": "4fcc0864-d455-412a-9566-89931c34ce3d",
   "metadata": {},
   "outputs": [],
   "source": [
    "dt_features = Normalizer().fit_transform(dt_features) #Normalizar datos"
   ]
  },
  {
   "cell_type": "code",
   "execution_count": null,
   "id": "1ef78ac2-c782-47ee-8bd1-9ba1ef33ec13",
   "metadata": {},
   "outputs": [],
   "source": [
    "print(dt_features)"
   ]
  },
  {
   "cell_type": "code",
   "execution_count": 20,
   "id": "661ca4f1-fd74-4fef-81da-2dda53d42977",
   "metadata": {},
   "outputs": [
    {
     "name": "stdout",
     "output_type": "stream",
     "text": [
      "(82, 7468)\n",
      "(82,)\n"
     ]
    }
   ],
   "source": [
    "print(dt_features.shape)\n",
    "print(dt_target.shape)"
   ]
  },
  {
   "cell_type": "markdown",
   "id": "7ccfa7a8-ee4e-48a6-a747-9062962d895a",
   "metadata": {},
   "source": [
    "# **Aplicacion Modelos ML**\n"
   ]
  },
  {
   "cell_type": "code",
   "execution_count": 21,
   "id": "93cc332e-abaa-43db-848f-eb43acaa6a47",
   "metadata": {},
   "outputs": [],
   "source": [
    "from sklearn.decomposition import PCA   #Algoritmo PCA\n",
    "from sklearn.svm import SVC\n",
    "from sklearn.svm import SVR\n",
    "from sklearn.cross_decomposition import PLSRegression\n",
    "\n",
    "\n",
    "# Creación del modelo SVR\n",
    "# ==============================================================================\n",
    "modeloSVR = SVR(C = 100, kernel = 'linear', degree=4)\n",
    "modeloPLS = PLSRegression(n_components=5)"
   ]
  },
  {
   "cell_type": "code",
   "execution_count": 22,
   "id": "977ab4c5-4c63-4328-9615-b79087bdc795",
   "metadata": {},
   "outputs": [],
   "source": [
    "#Librerias Metricas\n",
    "from sklearn.metrics import mean_squared_error\n",
    "from sklearn.metrics import r2_score\n",
    "\n",
    "bestErrorSVR=[]\n",
    "bestErrorPLS=[]\n",
    "bestR2SVR=[]\n",
    "bestR2PLS=[]\n",
    "for i in range (1,1024):\n",
    "    X_train, X_test, y_train, y_test= train_test_split(dt_features, dt_target, train_size= 0.8,random_state = i ,shuffle = True) #parametro random state permite que siempre su usen las mismas muestras\n",
    "    #Fit models\n",
    "    modeloSVR.fit(X_train, y_train)\n",
    "    modeloPLS.fit(X_train, y_train)\n",
    "    \n",
    "    #Predict Models\n",
    "    prediccionesSVR = modeloSVR.predict(X_test)\n",
    "    prediccionesPLS = modeloPLS.predict(X_test)\n",
    "    \n",
    "    #Error medio Cuadrado - Valor ideal 0\n",
    "    MSE_SVR = mean_squared_error(y_test, prediccionesSVR)\n",
    "    MSE_PLS = mean_squared_error(y_test, prediccionesPLS)\n",
    "    \n",
    "    #Agregar Valores a la matriz\n",
    "    bestErrorSVR.append(MSE_SVR) # Valor ideal 0\n",
    "    bestErrorPLS.append(MSE_PLS) #Valor ideal 0\n",
    "    \n",
    "    #Error R2 - Valor ideal 1\n",
    "    r2SVR= r2_score(y_test, prediccionesSVR)#Valor ideal 1\n",
    "    r2PLS= r2_score(y_test, prediccionesPLS)#Valor ideal 1\n",
    "    \n",
    "    #Agregar valores a la matriz\n",
    "    bestR2SVR.append(r2SVR)\n",
    "    bestR2PLS.append(r2PLS)"
   ]
  },
  {
   "cell_type": "code",
   "execution_count": 23,
   "id": "482e40b1-80bc-4158-9974-792cafaff87d",
   "metadata": {},
   "outputs": [
    {
     "name": "stdout",
     "output_type": "stream",
     "text": [
      "1023\n"
     ]
    }
   ],
   "source": [
    "print(len(bestErrorSVR))# 1023 datos en el vector para evidenciar correcto funcionamiento"
   ]
  },
  {
   "cell_type": "code",
   "execution_count": 24,
   "id": "543d9d40-4f14-4b37-b91d-cad62cae09e5",
   "metadata": {},
   "outputs": [
    {
     "name": "stdout",
     "output_type": "stream",
     "text": [
      "SVR: El mejor MSE esta un random state de  1003 y su valor es  2.990528316350664\n",
      "PLS: El mejor MSE esta un random state de  391 y su valor es  2.6061431901594756\n",
      "##################################################################################\n",
      "SVR: El mejor R2 esta un random state de  170 y su valor es  0.4886272402748353\n",
      "PLS: El mejor R2 esta un random state de  391 y su valor es  0.6764710558607867\n"
     ]
    }
   ],
   "source": [
    "print('SVR: El mejor MSE esta un random state de ',np.argmin(bestErrorSVR), 'y su valor es ' ,np.min(bestErrorSVR))#\n",
    "print('PLS: El mejor MSE esta un random state de ',np.argmin(bestErrorPLS), 'y su valor es ' ,np.min(bestErrorPLS))#\n",
    "print('#'*82)\n",
    "\n",
    "print('SVR: El mejor R2 esta un random state de ',np.argmax(bestR2SVR), 'y su valor es ' ,np.max(bestR2SVR))#\n",
    "print('PLS: El mejor R2 esta un random state de ',np.argmax(bestR2PLS), 'y su valor es ' ,np.max(bestR2PLS))#\n",
    "\n"
   ]
  },
  {
   "cell_type": "code",
   "execution_count": 25,
   "id": "22b392e6-33fe-4127-8cdb-ca3d9b476649",
   "metadata": {},
   "outputs": [
    {
     "name": "stdout",
     "output_type": "stream",
     "text": [
      "ErrorMedioCuadrado SVR=  5.1089672289480355\n",
      "ErrorMedioCuadrado PLS=  2.6061431901594756\n",
      "r2error SVR=  0.3657682434854028\n",
      "r2error PLS=  0.6764710558607867\n"
     ]
    }
   ],
   "source": [
    "#partir conjunto de entrenamiento\n",
    "\n",
    "#Entrenamiento con el mejor MSE\n",
    "X_train, X_test, y_train, y_test= train_test_split(dt_features, dt_target, train_size= 0.8,random_state =np.argmax(bestR2PLS)+1 , shuffle = True) #parametro random state permite que siempre su usen las mismas muestras\n",
    "\n",
    "# ============================================================\n",
    "modeloSVR.fit(X_train, y_train)\n",
    "modeloPLS.fit(X_train, y_train)\n",
    "\n",
    "# ============================================================\n",
    "prediccionesSVR_train = modeloSVR.predict(X_train)\n",
    "prediccionesPLS_train = modeloPLS.predict(X_train)\n",
    "\n",
    "#============================================================\n",
    "prediccionesSVR = modeloSVR.predict(X_test)\n",
    "prediccionesPLS = modeloPLS.predict(X_test)\n",
    "\n",
    "#=====================================================\n",
    "#Error medio Cuadrado - Valor ideal 0\n",
    "from sklearn.metrics import mean_squared_error\n",
    "MSE_SVR = mean_squared_error(y_test, prediccionesSVR)\n",
    "MSE_LPS = mean_squared_error(y_test, prediccionesPLS)\n",
    "\n",
    "print('ErrorMedioCuadrado SVR= ', MSE_SVR)\n",
    "print('ErrorMedioCuadrado PLS= ', MSE_LPS)\n",
    "\n",
    "#====================================================\n",
    "#Error R2 - Valor ideal 1\n",
    "from sklearn.metrics import r2_score\n",
    "\n",
    "r2SVR= r2_score(y_test, prediccionesSVR)\n",
    "r2PLS= r2_score(y_test, prediccionesPLS)\n",
    "\n",
    "print('r2error SVR= ', r2SVR)\n",
    "print('r2error PLS= ', r2PLS)"
   ]
  },
  {
   "cell_type": "code",
   "execution_count": 26,
   "id": "3e8b49d6-5101-46ce-b83a-fcd10dd7295d",
   "metadata": {},
   "outputs": [
    {
     "name": "stdout",
     "output_type": "stream",
     "text": [
      "<class 'numpy.ndarray'> (17, 1)\n",
      "<class 'numpy.ndarray'> (65, 7468)\n",
      "<class 'numpy.ndarray'> (65,)\n",
      "<class 'numpy.ndarray'> (17, 7468)\n",
      "<class 'numpy.ndarray'> (17,)\n",
      "<class 'numpy.ndarray'> (82, 7468)\n"
     ]
    }
   ],
   "source": [
    "print(type(prediccionesPLS), prediccionesPLS.shape)\n",
    "print(type(X_train), X_train.shape)\n",
    "print(type(y_train), y_train.shape)\n",
    "print(type(X_test), X_test.shape)\n",
    "print(type(y_test), y_test.shape)\n",
    "print(type(dt_features) , dt_features.shape)\n",
    "# dt_spec_Transpose"
   ]
  },
  {
   "cell_type": "markdown",
   "id": "93554a48-a2fa-4ebd-a8ae-1a81290e824c",
   "metadata": {},
   "source": [
    "## Graficas"
   ]
  },
  {
   "cell_type": "code",
   "execution_count": 27,
   "id": "10446d10-a19e-4551-b829-f0eca6925195",
   "metadata": {},
   "outputs": [],
   "source": [
    "#Grafico Resultados SVR\n",
    "\n",
    "import matplotlib.pyplot as plt \n",
    "import seaborn as sns\n",
    "\n",
    "y_pred=prediccionesPLS_train\n",
    "y_pred_test=prediccionesPLS"
   ]
  },
  {
   "cell_type": "code",
   "execution_count": 28,
   "id": "d03bd94d-dc2e-4eb1-ba3b-c3f8578967d6",
   "metadata": {},
   "outputs": [
    {
     "data": {
      "image/png": "[encoded data removed]",
      "text/plain": [
       "<Figure size 640x480 with 1 Axes>"
      ]
     },
     "metadata": {},
     "output_type": "display_data"
    }
   ],
   "source": [
    "fig, ax = plt.subplots()\n",
    "ax.scatter(y_train, y_pred, edgecolors=(0, 0, 0))\n",
    "ax.scatter(y_test, y_pred_test, color='red', edgecolors=(0, 0, 0))\n",
    "ax.plot([y_train.min(), y_train.max()], [y_train.min(), y_train.max()], 'k--', lw=3)\n",
    "plt.text(0.75, 0.2, f\"MSE: {MSE_PLS:.5f}\", transform=plt.gca().transAxes)\n",
    "plt.text(0.75, 0.15, f\"R2: {r2PLS:.5f}\", transform=plt.gca().transAxes)\n",
    "ax.set_xlabel('Measured')\n",
    "ax.set_ylabel('Predicted')\n",
    "\n",
    "plt.show()"
   ]
  },
  {
   "cell_type": "code",
   "execution_count": 41,
   "id": "309b4703-42a2-4169-8863-81c6d547a994",
   "metadata": {},
   "outputs": [
    {
     "data": {
      "text/plain": [
       "['Regresion_ASCI_SVR.pkl']"
      ]
     },
     "execution_count": 41,
     "metadata": {},
     "output_type": "execute_result"
    }
   ],
   "source": [
    "from joblib import dump\n",
    "dump(modeloPLS, 'Regresion_ASCI_SVR.pkl')"
   ]
  },
  {
   "cell_type": "code",
   "execution_count": null,
   "id": "2ef5700e-805b-489c-a581-e2988bc929dd",
   "metadata": {},
   "outputs": [],
   "source": []
  }
 ],
 "metadata": {
  "kernelspec": {
   "display_name": "Python 3 (ipykernel)",
   "language": "python",
   "name": "python3"
  },
  "language_info": {
   "codemirror_mode": {
    "name": "ipython",
    "version": 3
   },
   "file_extension": ".py",
   "mimetype": "text/x-python",
   "name": "python",
   "nbconvert_exporter": "python",
   "pygments_lexer": "ipython3",
   "version": "3.7.13"
  }
 },
 "nbformat": 4,
 "nbformat_minor": 5
}

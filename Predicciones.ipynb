{
 "cells": [
  {
   "cell_type": "markdown",
   "id": "00d6f583-d55c-4dd6-854a-4b65d198f5e2",
   "metadata": {},
   "source": [
    "## Prediccion de datos\n",
    "Importando modelos\n",
    "Usando datos de prueba"
   ]
  },
  {
   "cell_type": "code",
   "execution_count": 1,
   "id": "41d204ce-f87e-4dac-8bc2-dabd8e8b8eee",
   "metadata": {},
   "outputs": [],
   "source": [
    "#Importar librerias\n",
    "\n",
    "import pandas as pd\n",
    "from joblib import load\n",
    "\n",
    "from sklearn.decomposition import PCA   #Algoritmo PCA\n",
    "from sklearn.metrics import mean_absolute_error\n",
    "\n",
    "from sklearn.preprocessing import Normalizer # Normalizacion de datos\n"
   ]
  },
  {
   "cell_type": "markdown",
   "id": "ca0bf91a-cf33-430e-b79b-132888a7a8e4",
   "metadata": {},
   "source": [
    "## Cargar Modelos"
   ]
  },
  {
   "cell_type": "code",
   "execution_count": 3,
   "id": "65886e03-910e-43c8-908a-89bf13bddf21",
   "metadata": {},
   "outputs": [
    {
     "name": "stdout",
     "output_type": "stream",
     "text": [
      "Success\n"
     ]
    }
   ],
   "source": [
    "#Cargar los modelos\n",
    "\n",
    "#Modelo ClasificacionLDA\n",
    "modeloClasificacionCFG = load('ModeloClasificacionCrudosFondosGasesLDA.pkl')\n",
    "modeloPca = load('modelo_pca.joblib')\n",
    "\n",
    "#Modelo RegresionCCR SVR\n",
    "modeloCCR= load('Regrecion%CCR_SVR.pkl')\n",
    "\n",
    "#Regresion_Saturados_SVR.pkl\n",
    "modeloSaturados= load('Regresion_Saturados_SVR.pkl')\n",
    "#Regresion_Aromaticos_SVR.pkl\n",
    "modeloAromaticos= load('Regresion_Aromaticos_PLS.pkl')\n",
    "#Regresion_Resinas_SVR.pkl\n",
    "modeloResinas= load('Regresion_Resinas_SVR.pkl')\n",
    "#Regresion_Asfaltenos_SVR.pkl\n",
    "modeloAsfaltenos= load('Regresion_Asfaltenos_SVR.pkl')\n",
    "\n",
    "#Regresion_ASCI_SVR.pkl\n",
    "modeloASCI= load('Regresion_ASCI_SVR.pkl')\n",
    "\n",
    "print (\"Success\")"
   ]
  },
  {
   "cell_type": "markdown",
   "id": "1fa5fee1-1082-4dd1-9e0f-195cf399795c",
   "metadata": {},
   "source": [
    "## Predecir datos nuevos \n"
   ]
  },
  {
   "cell_type": "markdown",
   "id": "0b76fb58-8442-4cf1-bc14-84f2c6675eba",
   "metadata": {},
   "source": [
    "### Datos Prueba Clasificiacion Fondos/Crudos/Gases\n"
   ]
  },
  {
   "cell_type": "code",
   "execution_count": 3,
   "id": "bab7dfed-a2d8-444c-ac10-20c26c720e2a",
   "metadata": {},
   "outputs": [
    {
     "data": {
      "text/html": [
       "<div>\n",
       "<style scoped>\n",
       "    .dataframe tbody tr th:only-of-type {\n",
       "        vertical-align: middle;\n",
       "    }\n",
       "\n",
       "    .dataframe tbody tr th {\n",
       "        vertical-align: top;\n",
       "    }\n",
       "\n",
       "    .dataframe thead th {\n",
       "        text-align: right;\n",
       "    }\n",
       "</style>\n",
       "<table border=\"1\" class=\"dataframe\">\n",
       "  <thead>\n",
       "    <tr style=\"text-align: right;\">\n",
       "      <th></th>\n",
       "      <th>0</th>\n",
       "      <th>1</th>\n",
       "      <th>2</th>\n",
       "      <th>3</th>\n",
       "      <th>4</th>\n",
       "      <th>5</th>\n",
       "      <th>6</th>\n",
       "      <th>7</th>\n",
       "      <th>8</th>\n",
       "      <th>9</th>\n",
       "      <th>...</th>\n",
       "      <th>11907</th>\n",
       "      <th>11908</th>\n",
       "      <th>11909</th>\n",
       "      <th>11910</th>\n",
       "      <th>11911</th>\n",
       "      <th>11912</th>\n",
       "      <th>11913</th>\n",
       "      <th>11914</th>\n",
       "      <th>11915</th>\n",
       "      <th>11916</th>\n",
       "    </tr>\n",
       "  </thead>\n",
       "  <tbody>\n",
       "    <tr>\n",
       "      <th>GasPrueba</th>\n",
       "      <td>0</td>\n",
       "      <td>0</td>\n",
       "      <td>0</td>\n",
       "      <td>0</td>\n",
       "      <td>0</td>\n",
       "      <td>0</td>\n",
       "      <td>0</td>\n",
       "      <td>0</td>\n",
       "      <td>0</td>\n",
       "      <td>0</td>\n",
       "      <td>...</td>\n",
       "      <td>0</td>\n",
       "      <td>0</td>\n",
       "      <td>0</td>\n",
       "      <td>0</td>\n",
       "      <td>0</td>\n",
       "      <td>0</td>\n",
       "      <td>0</td>\n",
       "      <td>0</td>\n",
       "      <td>0</td>\n",
       "      <td>0</td>\n",
       "    </tr>\n",
       "  </tbody>\n",
       "</table>\n",
       "<p>1 rows × 11917 columns</p>\n",
       "</div>"
      ],
      "text/plain": [
       "           0      1      2      3      4      5      6      7      8      \\\n",
       "GasPrueba      0      0      0      0      0      0      0      0      0   \n",
       "\n",
       "           9      ...  11907  11908  11909  11910  11911  11912  11913  11914  \\\n",
       "GasPrueba      0  ...      0      0      0      0      0      0      0      0   \n",
       "\n",
       "           11915  11916  \n",
       "GasPrueba      0      0  \n",
       "\n",
       "[1 rows x 11917 columns]"
      ]
     },
     "execution_count": 3,
     "metadata": {},
     "output_type": "execute_result"
    }
   ],
   "source": [
    "datos_prueba_Clasificacion = pd.read_csv(\"Data/DatosPruebaClasificacionFCG.csv\", sep=\"\\t\", decimal=\",\")\n",
    "datos_prueba_Clasificacion = datos_prueba_Clasificacion.transpose()\n",
    "datos_prueba_Clasificacion.head()"
   ]
  },
  {
   "cell_type": "code",
   "execution_count": 4,
   "id": "85a6d375-2e98-4ad0-8bda-744c44c5da3f",
   "metadata": {},
   "outputs": [],
   "source": [
    "datos_prueba_pca = modeloPca.transform(datos_prueba_Clasificacion)"
   ]
  },
  {
   "cell_type": "code",
   "execution_count": 5,
   "id": "f3765257-925e-4959-bb9d-bba5911322e7",
   "metadata": {},
   "outputs": [
    {
     "name": "stdout",
     "output_type": "stream",
     "text": [
      "Sus datos son un gas\n"
     ]
    }
   ],
   "source": [
    "prediccionesClasificacion = modeloClasificacionCFG.predict(datos_prueba_pca)\n",
    "\n",
    "# prediccionesClasificacion = modeloClasificacionCFG.predict(datos_prueba_Clasificacion)\n",
    "\n",
    "#crudo 2 ,fondo 1, vacio 0  \n",
    "if (prediccionesClasificacion == 2):\n",
    "    print(\"Sus datos son un crudo\")\n",
    "elif(prediccionesClasificacion ==1):\n",
    "    print(\"Sus datos son un fondo\")\n",
    "else :\n",
    "    print(\"Sus datos son un gas\")\n"
   ]
  },
  {
   "cell_type": "markdown",
   "id": "b43653f3-2131-4121-bba9-91f79853564d",
   "metadata": {},
   "source": [
    "### Datos Prueba Predicciones de %CCR\n"
   ]
  },
  {
   "cell_type": "code",
   "execution_count": 6,
   "id": "fbf6a214-62f7-4682-8e8c-fc3dbf4ff800",
   "metadata": {},
   "outputs": [
    {
     "data": {
      "text/html": [
       "<div>\n",
       "<style scoped>\n",
       "    .dataframe tbody tr th:only-of-type {\n",
       "        vertical-align: middle;\n",
       "    }\n",
       "\n",
       "    .dataframe tbody tr th {\n",
       "        vertical-align: top;\n",
       "    }\n",
       "\n",
       "    .dataframe thead th {\n",
       "        text-align: right;\n",
       "    }\n",
       "</style>\n",
       "<table border=\"1\" class=\"dataframe\">\n",
       "  <thead>\n",
       "    <tr style=\"text-align: right;\">\n",
       "      <th></th>\n",
       "      <th>0</th>\n",
       "      <th>1</th>\n",
       "      <th>2</th>\n",
       "      <th>3</th>\n",
       "      <th>4</th>\n",
       "      <th>5</th>\n",
       "      <th>6</th>\n",
       "      <th>7</th>\n",
       "      <th>8</th>\n",
       "      <th>9</th>\n",
       "      <th>...</th>\n",
       "      <th>59682</th>\n",
       "      <th>59683</th>\n",
       "      <th>59684</th>\n",
       "      <th>59685</th>\n",
       "      <th>59686</th>\n",
       "      <th>59687</th>\n",
       "      <th>59688</th>\n",
       "      <th>59689</th>\n",
       "      <th>59690</th>\n",
       "      <th>59691</th>\n",
       "    </tr>\n",
       "  </thead>\n",
       "  <tbody>\n",
       "    <tr>\n",
       "      <th>VRPrueba</th>\n",
       "      <td>0.0</td>\n",
       "      <td>0.0</td>\n",
       "      <td>0.0</td>\n",
       "      <td>0.0</td>\n",
       "      <td>0.0</td>\n",
       "      <td>0.0</td>\n",
       "      <td>0.0</td>\n",
       "      <td>0.0</td>\n",
       "      <td>0.0</td>\n",
       "      <td>0.0</td>\n",
       "      <td>...</td>\n",
       "      <td>0.0</td>\n",
       "      <td>0.0</td>\n",
       "      <td>0.0</td>\n",
       "      <td>0.0</td>\n",
       "      <td>0.0</td>\n",
       "      <td>0.0</td>\n",
       "      <td>0.0</td>\n",
       "      <td>0.0</td>\n",
       "      <td>0.0</td>\n",
       "      <td>0.0</td>\n",
       "    </tr>\n",
       "  </tbody>\n",
       "</table>\n",
       "<p>1 rows × 59692 columns</p>\n",
       "</div>"
      ],
      "text/plain": [
       "          0      1      2      3      4      5      6      7      8      \\\n",
       "VRPrueba    0.0    0.0    0.0    0.0    0.0    0.0    0.0    0.0    0.0   \n",
       "\n",
       "          9      ...  59682  59683  59684  59685  59686  59687  59688  59689  \\\n",
       "VRPrueba    0.0  ...    0.0    0.0    0.0    0.0    0.0    0.0    0.0    0.0   \n",
       "\n",
       "          59690  59691  \n",
       "VRPrueba    0.0    0.0  \n",
       "\n",
       "[1 rows x 59692 columns]"
      ]
     },
     "execution_count": 6,
     "metadata": {},
     "output_type": "execute_result"
    }
   ],
   "source": [
    "datos_prueba_CCR = pd.read_csv(\"Data/DatosPruebaRegresionCCR.csv\", sep=\"\\t\", decimal=\",\")\n",
    "datos_prueba_CCR = datos_prueba_CCR.transpose()\n",
    "datos_prueba_CCR.head()\n"
   ]
  },
  {
   "cell_type": "code",
   "execution_count": 7,
   "id": "73db94d6-ea6e-4414-baed-d46ef5a13d8d",
   "metadata": {},
   "outputs": [
    {
     "data": {
      "text/plain": [
       "array([[0., 0., 0., ..., 0., 0., 0.]])"
      ]
     },
     "execution_count": 7,
     "metadata": {},
     "output_type": "execute_result"
    }
   ],
   "source": [
    "datos_prueba_CCR = Normalizer().fit_transform(datos_prueba_CCR)\n",
    "datos_prueba_CCR"
   ]
  },
  {
   "cell_type": "code",
   "execution_count": 12,
   "id": "dd697f0e-4adb-4fb4-9810-995f701aad22",
   "metadata": {},
   "outputs": [
    {
     "name": "stdout",
     "output_type": "stream",
     "text": [
      "[17.13440633]\n"
     ]
    }
   ],
   "source": [
    "prediccionesCCR = modeloCCR.predict(datos_prueba_CCR)\n",
    "print(prediccionesCCR)"
   ]
  },
  {
   "cell_type": "markdown",
   "id": "4fcfa7b7-0da2-41c7-91b6-1c9036036ae7",
   "metadata": {},
   "source": [
    "### Datos Prueba SARA\n"
   ]
  },
  {
   "cell_type": "code",
   "execution_count": 40,
   "id": "7114713f-7e42-4027-bf60-babf170390b9",
   "metadata": {},
   "outputs": [
    {
     "data": {
      "text/html": [
       "<div>\n",
       "<style scoped>\n",
       "    .dataframe tbody tr th:only-of-type {\n",
       "        vertical-align: middle;\n",
       "    }\n",
       "\n",
       "    .dataframe tbody tr th {\n",
       "        vertical-align: top;\n",
       "    }\n",
       "\n",
       "    .dataframe thead th {\n",
       "        text-align: right;\n",
       "    }\n",
       "</style>\n",
       "<table border=\"1\" class=\"dataframe\">\n",
       "  <thead>\n",
       "    <tr style=\"text-align: right;\">\n",
       "      <th></th>\n",
       "      <th>0</th>\n",
       "      <th>1</th>\n",
       "      <th>2</th>\n",
       "      <th>3</th>\n",
       "      <th>4</th>\n",
       "      <th>5</th>\n",
       "      <th>6</th>\n",
       "      <th>7</th>\n",
       "      <th>8</th>\n",
       "      <th>9</th>\n",
       "      <th>...</th>\n",
       "      <th>59682</th>\n",
       "      <th>59683</th>\n",
       "      <th>59684</th>\n",
       "      <th>59685</th>\n",
       "      <th>59686</th>\n",
       "      <th>59687</th>\n",
       "      <th>59688</th>\n",
       "      <th>59689</th>\n",
       "      <th>59690</th>\n",
       "      <th>59691</th>\n",
       "    </tr>\n",
       "  </thead>\n",
       "  <tbody>\n",
       "    <tr>\n",
       "      <th>CRPrueba</th>\n",
       "      <td>2.262</td>\n",
       "      <td>10.568</td>\n",
       "      <td>37.162</td>\n",
       "      <td>41.482</td>\n",
       "      <td>37.954</td>\n",
       "      <td>34.222</td>\n",
       "      <td>48.287</td>\n",
       "      <td>42.975</td>\n",
       "      <td>87.73</td>\n",
       "      <td>79.811</td>\n",
       "      <td>...</td>\n",
       "      <td>0.0</td>\n",
       "      <td>0.0</td>\n",
       "      <td>0.0</td>\n",
       "      <td>0.0</td>\n",
       "      <td>0.0</td>\n",
       "      <td>0.0</td>\n",
       "      <td>0.0</td>\n",
       "      <td>0.0</td>\n",
       "      <td>0.0</td>\n",
       "      <td>0.0</td>\n",
       "    </tr>\n",
       "  </tbody>\n",
       "</table>\n",
       "<p>1 rows × 59692 columns</p>\n",
       "</div>"
      ],
      "text/plain": [
       "          0       1       2       3       4       5       6       7      \\\n",
       "CRPrueba  2.262  10.568  37.162  41.482  37.954  34.222  48.287  42.975   \n",
       "\n",
       "          8       9      ...  59682  59683  59684  59685  59686  59687  59688  \\\n",
       "CRPrueba  87.73  79.811  ...    0.0    0.0    0.0    0.0    0.0    0.0    0.0   \n",
       "\n",
       "          59689  59690  59691  \n",
       "CRPrueba    0.0    0.0    0.0  \n",
       "\n",
       "[1 rows x 59692 columns]"
      ]
     },
     "execution_count": 40,
     "metadata": {},
     "output_type": "execute_result"
    }
   ],
   "source": [
    "datos_prueba_SARA = pd.read_csv(\"Data/DatosPruebaRegresionSARA.csv\", sep=\"\\t\", decimal=\",\")\n",
    "datos_prueba_SARA = datos_prueba_SARA.transpose()\n",
    "datos_prueba_SARA.head()\n",
    "\n"
   ]
  },
  {
   "cell_type": "code",
   "execution_count": 41,
   "id": "cac211f8-d08b-407d-afeb-c43067cc4798",
   "metadata": {},
   "outputs": [
    {
     "data": {
      "text/plain": [
       "array([[0.00263168, 0.01229511, 0.04323533, ..., 0.        , 0.        ,\n",
       "        0.        ]])"
      ]
     },
     "execution_count": 41,
     "metadata": {},
     "output_type": "execute_result"
    }
   ],
   "source": [
    "datos_prueba_SARA = Normalizer().fit_transform(datos_prueba_SARA)\n",
    "datos_prueba_SARA"
   ]
  },
  {
   "cell_type": "code",
   "execution_count": 42,
   "id": "a5d5878c-2614-4ac8-965b-c9b30291682f",
   "metadata": {},
   "outputs": [
    {
     "name": "stdout",
     "output_type": "stream",
     "text": [
      "[24.42242187]\n"
     ]
    }
   ],
   "source": [
    "#Predicciones Saturados\n",
    "prediccionesSaturados = modeloSaturados.predict(datos_prueba_SARA)\n",
    "print(prediccionesSaturados)"
   ]
  },
  {
   "cell_type": "code",
   "execution_count": 43,
   "id": "5af7ea58-a7ef-4303-98d2-3f147bb3f9c6",
   "metadata": {},
   "outputs": [
    {
     "name": "stdout",
     "output_type": "stream",
     "text": [
      "[[32.1405172]]\n"
     ]
    }
   ],
   "source": [
    "#Predicciones Aromaticos\n",
    "prediccionesAromaticos = modeloAromaticos.predict(datos_prueba_SARA)\n",
    "print(prediccionesAromaticos)"
   ]
  },
  {
   "cell_type": "code",
   "execution_count": 44,
   "id": "66f44ed6-00c3-4c6d-8565-08de7d57612a",
   "metadata": {},
   "outputs": [
    {
     "name": "stdout",
     "output_type": "stream",
     "text": [
      "[14.05490805]\n"
     ]
    }
   ],
   "source": [
    "#Predicciones Resinas\n",
    "prediccionesResinas = modeloResinas.predict(datos_prueba_SARA)\n",
    "print(prediccionesResinas)"
   ]
  },
  {
   "cell_type": "code",
   "execution_count": 45,
   "id": "279022cc-3edf-47e0-92ab-bf68af9cafc0",
   "metadata": {},
   "outputs": [
    {
     "name": "stdout",
     "output_type": "stream",
     "text": [
      "[8.82001247]\n"
     ]
    }
   ],
   "source": [
    "#Predicciones Asfaltenos\n",
    "prediccionesAsfaltenos = modeloAsfaltenos.predict(datos_prueba_SARA)\n",
    "print(prediccionesAsfaltenos)"
   ]
  },
  {
   "cell_type": "markdown",
   "id": "6209b48b-b28b-42b9-ae6d-c1d67a12973d",
   "metadata": {},
   "source": [
    "### Datos Prueba ASCI"
   ]
  },
  {
   "cell_type": "code",
   "execution_count": 18,
   "id": "0061617c-5b0d-451c-be3b-6238e3390d4b",
   "metadata": {},
   "outputs": [
    {
     "name": "stdout",
     "output_type": "stream",
     "text": [
      "(1, 7468)\n"
     ]
    },
    {
     "data": {
      "text/html": [
       "<div>\n",
       "<style scoped>\n",
       "    .dataframe tbody tr th:only-of-type {\n",
       "        vertical-align: middle;\n",
       "    }\n",
       "\n",
       "    .dataframe tbody tr th {\n",
       "        vertical-align: top;\n",
       "    }\n",
       "\n",
       "    .dataframe thead th {\n",
       "        text-align: right;\n",
       "    }\n",
       "</style>\n",
       "<table border=\"1\" class=\"dataframe\">\n",
       "  <thead>\n",
       "    <tr style=\"text-align: right;\">\n",
       "      <th></th>\n",
       "      <th>0</th>\n",
       "      <th>1</th>\n",
       "      <th>2</th>\n",
       "      <th>3</th>\n",
       "      <th>4</th>\n",
       "      <th>5</th>\n",
       "      <th>6</th>\n",
       "      <th>7</th>\n",
       "      <th>8</th>\n",
       "      <th>9</th>\n",
       "      <th>...</th>\n",
       "      <th>7458</th>\n",
       "      <th>7459</th>\n",
       "      <th>7460</th>\n",
       "      <th>7461</th>\n",
       "      <th>7462</th>\n",
       "      <th>7463</th>\n",
       "      <th>7464</th>\n",
       "      <th>7465</th>\n",
       "      <th>7466</th>\n",
       "      <th>7467</th>\n",
       "    </tr>\n",
       "  </thead>\n",
       "  <tbody>\n",
       "    <tr>\n",
       "      <th>prueba</th>\n",
       "      <td>0.012468</td>\n",
       "      <td>0.012486</td>\n",
       "      <td>0.012449</td>\n",
       "      <td>0.012386</td>\n",
       "      <td>0.012352</td>\n",
       "      <td>0.012396</td>\n",
       "      <td>0.012543</td>\n",
       "      <td>0.012782</td>\n",
       "      <td>0.013081</td>\n",
       "      <td>0.013398</td>\n",
       "      <td>...</td>\n",
       "      <td>0.003964</td>\n",
       "      <td>0.003966</td>\n",
       "      <td>0.003967</td>\n",
       "      <td>0.003967</td>\n",
       "      <td>0.003967</td>\n",
       "      <td>0.003969</td>\n",
       "      <td>0.00397</td>\n",
       "      <td>0.003973</td>\n",
       "      <td>0.003975</td>\n",
       "      <td>0.003976</td>\n",
       "    </tr>\n",
       "  </tbody>\n",
       "</table>\n",
       "<p>1 rows × 7468 columns</p>\n",
       "</div>"
      ],
      "text/plain": [
       "            0         1         2         3         4         5         6     \\\n",
       "prueba  0.012468  0.012486  0.012449  0.012386  0.012352  0.012396  0.012543   \n",
       "\n",
       "            7         8         9     ...      7458      7459      7460  \\\n",
       "prueba  0.012782  0.013081  0.013398  ...  0.003964  0.003966  0.003967   \n",
       "\n",
       "            7461      7462      7463     7464      7465      7466      7467  \n",
       "prueba  0.003967  0.003967  0.003969  0.00397  0.003973  0.003975  0.003976  \n",
       "\n",
       "[1 rows x 7468 columns]"
      ]
     },
     "execution_count": 18,
     "metadata": {},
     "output_type": "execute_result"
    }
   ],
   "source": [
    "datos_prueba_ASCI = pd.read_csv(\"Data/DatosPruebaRegresionASCI.csv\",sep=\"\\t\", decimal=\",\")\n",
    "datos_prueba_ASCI = datos_prueba_ASCI.transpose()\n",
    "print(datos_prueba_ASCI.shape)#Ver tamaño dataset\n",
    "datos_prueba_ASCI.head()\n"
   ]
  },
  {
   "cell_type": "code",
   "execution_count": 19,
   "id": "e9a25235-973c-46e3-9e73-3549ed75681d",
   "metadata": {},
   "outputs": [
    {
     "name": "stdout",
     "output_type": "stream",
     "text": [
      "float64\n"
     ]
    },
    {
     "data": {
      "text/plain": [
       "array([[0.00449769, 0.00450432, 0.00449092, ..., 0.00143322, 0.00143384,\n",
       "        0.00143416]])"
      ]
     },
     "execution_count": 19,
     "metadata": {},
     "output_type": "execute_result"
    }
   ],
   "source": [
    "datos_prueba_ASCI = Normalizer().fit_transform(datos_prueba_ASCI)\n",
    "print(datos_prueba_ASCI.dtype)\n",
    "datos_prueba_ASCI\n"
   ]
  },
  {
   "cell_type": "code",
   "execution_count": 20,
   "id": "893f0f9f-c5f4-4cba-a71f-9f6b0a16d00a",
   "metadata": {},
   "outputs": [
    {
     "name": "stdout",
     "output_type": "stream",
     "text": [
      "[[0.01182676]]\n"
     ]
    }
   ],
   "source": [
    "prediccionesASCI = modeloASCI.predict(datos_prueba_ASCI)\n",
    "print(prediccionesASCI)"
   ]
  },
  {
   "cell_type": "code",
   "execution_count": null,
   "id": "04707243-06e7-4ead-8f49-dfa8c1d5e111",
   "metadata": {},
   "outputs": [],
   "source": []
  },
  {
   "cell_type": "code",
   "execution_count": 46,
   "id": "f90573c0-f30c-44b0-b5d4-42fa815f0eb2",
   "metadata": {},
   "outputs": [
    {
     "name": "stdout",
     "output_type": "stream",
     "text": [
      "[12.1952618]\n"
     ]
    }
   ],
   "source": [
    "datos_prueba_SARA = pd.read_csv(\"Data/DatosPruebaRegresionSARA.csv\", sep=\"\\t\", decimal=\",\")\n",
    "datos_prueba_SARA = datos_prueba_SARA.transpose()\n",
    "\n",
    "from sklearn.preprocessing import StandardScaler\n",
    "\n",
    "scaler = StandardScaler()\n",
    "datos_prueba_SARA = scaler.fit_transform(datos_prueba_SARA)\n",
    "\n",
    "\n",
    "# datos_prueba_SARA = Normalizer().fit_transform(datos_prueba_SARA)\n",
    "prediccionesSaturados = modeloSaturados.predict(datos_prueba_SARA)\n",
    "print(prediccionesSaturados)"
   ]
  },
  {
   "cell_type": "code",
   "execution_count": 49,
   "id": "093e501e-72df-4a2b-ab99-1fe7d28375ff",
   "metadata": {},
   "outputs": [
    {
     "data": {
      "text/html": [
       "<div>\n",
       "<style scoped>\n",
       "    .dataframe tbody tr th:only-of-type {\n",
       "        vertical-align: middle;\n",
       "    }\n",
       "\n",
       "    .dataframe tbody tr th {\n",
       "        vertical-align: top;\n",
       "    }\n",
       "\n",
       "    .dataframe thead th {\n",
       "        text-align: right;\n",
       "    }\n",
       "</style>\n",
       "<table border=\"1\" class=\"dataframe\">\n",
       "  <thead>\n",
       "    <tr style=\"text-align: right;\">\n",
       "      <th></th>\n",
       "      <th>CRPrueba</th>\n",
       "    </tr>\n",
       "  </thead>\n",
       "  <tbody>\n",
       "    <tr>\n",
       "      <th>0</th>\n",
       "      <td>2.262</td>\n",
       "    </tr>\n",
       "    <tr>\n",
       "      <th>1</th>\n",
       "      <td>10.568</td>\n",
       "    </tr>\n",
       "    <tr>\n",
       "      <th>2</th>\n",
       "      <td>37.162</td>\n",
       "    </tr>\n",
       "    <tr>\n",
       "      <th>3</th>\n",
       "      <td>41.482</td>\n",
       "    </tr>\n",
       "    <tr>\n",
       "      <th>4</th>\n",
       "      <td>37.954</td>\n",
       "    </tr>\n",
       "    <tr>\n",
       "      <th>...</th>\n",
       "      <td>...</td>\n",
       "    </tr>\n",
       "    <tr>\n",
       "      <th>59687</th>\n",
       "      <td>0.000</td>\n",
       "    </tr>\n",
       "    <tr>\n",
       "      <th>59688</th>\n",
       "      <td>0.000</td>\n",
       "    </tr>\n",
       "    <tr>\n",
       "      <th>59689</th>\n",
       "      <td>0.000</td>\n",
       "    </tr>\n",
       "    <tr>\n",
       "      <th>59690</th>\n",
       "      <td>0.000</td>\n",
       "    </tr>\n",
       "    <tr>\n",
       "      <th>59691</th>\n",
       "      <td>0.000</td>\n",
       "    </tr>\n",
       "  </tbody>\n",
       "</table>\n",
       "<p>59692 rows × 1 columns</p>\n",
       "</div>"
      ],
      "text/plain": [
       "       CRPrueba\n",
       "0         2.262\n",
       "1        10.568\n",
       "2        37.162\n",
       "3        41.482\n",
       "4        37.954\n",
       "...         ...\n",
       "59687     0.000\n",
       "59688     0.000\n",
       "59689     0.000\n",
       "59690     0.000\n",
       "59691     0.000\n",
       "\n",
       "[59692 rows x 1 columns]"
      ]
     },
     "execution_count": 49,
     "metadata": {},
     "output_type": "execute_result"
    }
   ],
   "source": [
    "datos_prueba_SARA = pd.read_csv(\"Data/DatosPruebaRegresionSARA.csv\", sep=\"\\t\", decimal=\",\")\n",
    "datos_prueba_SARA"
   ]
  },
  {
   "cell_type": "code",
   "execution_count": null,
   "id": "95733594-b770-4738-99e7-e5e759b021fc",
   "metadata": {},
   "outputs": [],
   "source": []
  }
 ],
 "metadata": {
  "kernelspec": {
   "display_name": "Python 3 (ipykernel)",
   "language": "python",
   "name": "python3"
  },
  "language_info": {
   "codemirror_mode": {
    "name": "ipython",
    "version": 3
   },
   "file_extension": ".py",
   "mimetype": "text/x-python",
   "name": "python",
   "nbconvert_exporter": "python",
   "pygments_lexer": "ipython3",
   "version": "3.7.13"
  }
 },
 "nbformat": 4,
 "nbformat_minor": 5
}

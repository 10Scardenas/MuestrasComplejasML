{
 "cells": [
  {
   "cell_type": "markdown",
   "id": "2f6d4b54-e2c6-4793-bfde-c39c495171c3",
   "metadata": {},
   "source": [
    "## Red Neuronal \n",
    "Predecir ASCI utilizando lo Espectros InfraRojos (IR)"
   ]
  },
  {
   "cell_type": "markdown",
   "id": "651f2d79-d3b2-4eb6-8fde-3f02c2922c58",
   "metadata": {},
   "source": [
    "## Librerias"
   ]
  },
  {
   "cell_type": "code",
   "execution_count": 1,
   "id": "821da3d8-f4dd-4621-a233-883d0418dcfe",
   "metadata": {},
   "outputs": [],
   "source": [
    "#librerias\n",
    "\n",
    "#Tratamiento Datos\n",
    "import numpy as np\n",
    "import pandas as pd\n",
    "from sklearn.preprocessing import Normalizer # Normalizacion de datos\n",
    "\n",
    "\n",
    "#Red Neuronal\n",
    "from keras import layers, models\n",
    "from tensorflow.keras.utils import to_categorical\n",
    "from keras.datasets import mnist #importar dataset mnist (numeros)\n",
    "import sklearn\n",
    "from sklearn.model_selection import train_test_split\n",
    "from sklearn.neural_network import MLPClassifier\n",
    "from sklearn.neural_network import MLPRegressor\n",
    "import tensorflow as tf\n",
    "\n",
    "#Graficas\n",
    "# import matplotlib.pyplot as plt\n"
   ]
  },
  {
   "cell_type": "code",
   "execution_count": 2,
   "id": "8c270727-2dd1-4fd4-925b-75d30289e30a",
   "metadata": {},
   "outputs": [
    {
     "name": "stdout",
     "output_type": "stream",
     "text": [
      "1.0.2\n",
      "1.3.5\n"
     ]
    }
   ],
   "source": [
    "print(sklearn.__version__)  # chekear si el ambiente funciona\n",
    "print(pd.__version__)"
   ]
  },
  {
   "cell_type": "markdown",
   "id": "eb2879fc-ecef-4131-9877-06cec089ad0b",
   "metadata": {},
   "source": [
    "## **Tratamiento Datos**\n"
   ]
  },
  {
   "cell_type": "markdown",
   "id": "28773efc-7b20-4b47-8e2a-3e2856597cc3",
   "metadata": {},
   "source": [
    "### Importar Datos IR"
   ]
  },
  {
   "cell_type": "code",
   "execution_count": 3,
   "id": "c5843543-4a0c-4093-9fd9-e6095a5cc0f8",
   "metadata": {},
   "outputs": [
    {
     "name": "stdout",
     "output_type": "stream",
     "text": [
      "(82, 7469)\n"
     ]
    },
    {
     "data": {
      "text/html": [
       "<div>\n",
       "<style scoped>\n",
       "    .dataframe tbody tr th:only-of-type {\n",
       "        vertical-align: middle;\n",
       "    }\n",
       "\n",
       "    .dataframe tbody tr th {\n",
       "        vertical-align: top;\n",
       "    }\n",
       "\n",
       "    .dataframe thead th {\n",
       "        text-align: right;\n",
       "    }\n",
       "</style>\n",
       "<table border=\"1\" class=\"dataframe\">\n",
       "  <thead>\n",
       "    <tr style=\"text-align: right;\">\n",
       "      <th></th>\n",
       "      <th>Unnamed: 0</th>\n",
       "      <th>0</th>\n",
       "      <th>1</th>\n",
       "      <th>2</th>\n",
       "      <th>3</th>\n",
       "      <th>4</th>\n",
       "      <th>5</th>\n",
       "      <th>6</th>\n",
       "      <th>7</th>\n",
       "      <th>8</th>\n",
       "      <th>...</th>\n",
       "      <th>7458</th>\n",
       "      <th>7459</th>\n",
       "      <th>7460</th>\n",
       "      <th>7461</th>\n",
       "      <th>7462</th>\n",
       "      <th>7463</th>\n",
       "      <th>7464</th>\n",
       "      <th>7465</th>\n",
       "      <th>7466</th>\n",
       "      <th>7467</th>\n",
       "    </tr>\n",
       "  </thead>\n",
       "  <tbody>\n",
       "    <tr>\n",
       "      <th>0</th>\n",
       "      <td>0</td>\n",
       "      <td>0.011097</td>\n",
       "      <td>0.011199</td>\n",
       "      <td>0.010985</td>\n",
       "      <td>0.010543</td>\n",
       "      <td>0.010022</td>\n",
       "      <td>0.009558</td>\n",
       "      <td>0.009238</td>\n",
       "      <td>0.009085</td>\n",
       "      <td>0.009071</td>\n",
       "      <td>...</td>\n",
       "      <td>0.007546</td>\n",
       "      <td>0.007546</td>\n",
       "      <td>0.007545</td>\n",
       "      <td>0.007542</td>\n",
       "      <td>0.007537</td>\n",
       "      <td>0.007530</td>\n",
       "      <td>0.007522</td>\n",
       "      <td>0.007512</td>\n",
       "      <td>0.007503</td>\n",
       "      <td>0.007494</td>\n",
       "    </tr>\n",
       "    <tr>\n",
       "      <th>1</th>\n",
       "      <td>1</td>\n",
       "      <td>0.012468</td>\n",
       "      <td>0.012486</td>\n",
       "      <td>0.012449</td>\n",
       "      <td>0.012386</td>\n",
       "      <td>0.012352</td>\n",
       "      <td>0.012396</td>\n",
       "      <td>0.012543</td>\n",
       "      <td>0.012782</td>\n",
       "      <td>0.013081</td>\n",
       "      <td>...</td>\n",
       "      <td>0.003964</td>\n",
       "      <td>0.003966</td>\n",
       "      <td>0.003967</td>\n",
       "      <td>0.003967</td>\n",
       "      <td>0.003967</td>\n",
       "      <td>0.003969</td>\n",
       "      <td>0.003970</td>\n",
       "      <td>0.003973</td>\n",
       "      <td>0.003975</td>\n",
       "      <td>0.003976</td>\n",
       "    </tr>\n",
       "    <tr>\n",
       "      <th>2</th>\n",
       "      <td>2</td>\n",
       "      <td>0.018689</td>\n",
       "      <td>0.018286</td>\n",
       "      <td>0.017887</td>\n",
       "      <td>0.017561</td>\n",
       "      <td>0.017360</td>\n",
       "      <td>0.017291</td>\n",
       "      <td>0.017324</td>\n",
       "      <td>0.017413</td>\n",
       "      <td>0.017528</td>\n",
       "      <td>...</td>\n",
       "      <td>0.000043</td>\n",
       "      <td>0.000035</td>\n",
       "      <td>0.000026</td>\n",
       "      <td>0.000016</td>\n",
       "      <td>0.000008</td>\n",
       "      <td>0.000003</td>\n",
       "      <td>0.000000</td>\n",
       "      <td>0.000001</td>\n",
       "      <td>0.000006</td>\n",
       "      <td>0.000013</td>\n",
       "    </tr>\n",
       "    <tr>\n",
       "      <th>3</th>\n",
       "      <td>3</td>\n",
       "      <td>0.015869</td>\n",
       "      <td>0.015885</td>\n",
       "      <td>0.015737</td>\n",
       "      <td>0.015513</td>\n",
       "      <td>0.015276</td>\n",
       "      <td>0.015056</td>\n",
       "      <td>0.014842</td>\n",
       "      <td>0.014605</td>\n",
       "      <td>0.014319</td>\n",
       "      <td>...</td>\n",
       "      <td>0.011477</td>\n",
       "      <td>0.011465</td>\n",
       "      <td>0.011455</td>\n",
       "      <td>0.011450</td>\n",
       "      <td>0.011447</td>\n",
       "      <td>0.011448</td>\n",
       "      <td>0.011453</td>\n",
       "      <td>0.011460</td>\n",
       "      <td>0.011469</td>\n",
       "      <td>0.011480</td>\n",
       "    </tr>\n",
       "    <tr>\n",
       "      <th>4</th>\n",
       "      <td>4</td>\n",
       "      <td>0.006940</td>\n",
       "      <td>0.006977</td>\n",
       "      <td>0.006766</td>\n",
       "      <td>0.006420</td>\n",
       "      <td>0.006081</td>\n",
       "      <td>0.005889</td>\n",
       "      <td>0.005934</td>\n",
       "      <td>0.006241</td>\n",
       "      <td>0.006779</td>\n",
       "      <td>...</td>\n",
       "      <td>0.003165</td>\n",
       "      <td>0.003165</td>\n",
       "      <td>0.003163</td>\n",
       "      <td>0.003158</td>\n",
       "      <td>0.003152</td>\n",
       "      <td>0.003147</td>\n",
       "      <td>0.003144</td>\n",
       "      <td>0.003142</td>\n",
       "      <td>0.003143</td>\n",
       "      <td>0.003145</td>\n",
       "    </tr>\n",
       "  </tbody>\n",
       "</table>\n",
       "<p>5 rows × 7469 columns</p>\n",
       "</div>"
      ],
      "text/plain": [
       "   Unnamed: 0         0         1         2         3         4         5  \\\n",
       "0           0  0.011097  0.011199  0.010985  0.010543  0.010022  0.009558   \n",
       "1           1  0.012468  0.012486  0.012449  0.012386  0.012352  0.012396   \n",
       "2           2  0.018689  0.018286  0.017887  0.017561  0.017360  0.017291   \n",
       "3           3  0.015869  0.015885  0.015737  0.015513  0.015276  0.015056   \n",
       "4           4  0.006940  0.006977  0.006766  0.006420  0.006081  0.005889   \n",
       "\n",
       "          6         7         8  ...      7458      7459      7460      7461  \\\n",
       "0  0.009238  0.009085  0.009071  ...  0.007546  0.007546  0.007545  0.007542   \n",
       "1  0.012543  0.012782  0.013081  ...  0.003964  0.003966  0.003967  0.003967   \n",
       "2  0.017324  0.017413  0.017528  ...  0.000043  0.000035  0.000026  0.000016   \n",
       "3  0.014842  0.014605  0.014319  ...  0.011477  0.011465  0.011455  0.011450   \n",
       "4  0.005934  0.006241  0.006779  ...  0.003165  0.003165  0.003163  0.003158   \n",
       "\n",
       "       7462      7463      7464      7465      7466      7467  \n",
       "0  0.007537  0.007530  0.007522  0.007512  0.007503  0.007494  \n",
       "1  0.003967  0.003969  0.003970  0.003973  0.003975  0.003976  \n",
       "2  0.000008  0.000003  0.000000  0.000001  0.000006  0.000013  \n",
       "3  0.011447  0.011448  0.011453  0.011460  0.011469  0.011480  \n",
       "4  0.003152  0.003147  0.003144  0.003142  0.003143  0.003145  \n",
       "\n",
       "[5 rows x 7469 columns]"
      ]
     },
     "execution_count": 3,
     "metadata": {},
     "output_type": "execute_result"
    }
   ],
   "source": [
    "#En las columnas están las muestras (82) y sus espectros ir\n",
    "Datos_IR = pd.read_excel(\"Data/ASCI_IR.xlsx\") #import dtframe ,skipinitialspace=True, skiprows=1\n",
    "\n",
    "print(Datos_IR.shape)#Ver tamaño dataset\n",
    "Datos_IR.head() #print dt frame"
   ]
  },
  {
   "cell_type": "code",
   "execution_count": 4,
   "id": "cdb70fef-82f9-4903-8f39-0dcac8b56162",
   "metadata": {},
   "outputs": [
    {
     "name": "stdout",
     "output_type": "stream",
     "text": [
      "(82, 7468)\n"
     ]
    },
    {
     "data": {
      "text/html": [
       "<div>\n",
       "<style scoped>\n",
       "    .dataframe tbody tr th:only-of-type {\n",
       "        vertical-align: middle;\n",
       "    }\n",
       "\n",
       "    .dataframe tbody tr th {\n",
       "        vertical-align: top;\n",
       "    }\n",
       "\n",
       "    .dataframe thead th {\n",
       "        text-align: right;\n",
       "    }\n",
       "</style>\n",
       "<table border=\"1\" class=\"dataframe\">\n",
       "  <thead>\n",
       "    <tr style=\"text-align: right;\">\n",
       "      <th></th>\n",
       "      <th>0</th>\n",
       "      <th>1</th>\n",
       "      <th>2</th>\n",
       "      <th>3</th>\n",
       "      <th>4</th>\n",
       "      <th>5</th>\n",
       "      <th>6</th>\n",
       "      <th>7</th>\n",
       "      <th>8</th>\n",
       "      <th>9</th>\n",
       "      <th>...</th>\n",
       "      <th>7458</th>\n",
       "      <th>7459</th>\n",
       "      <th>7460</th>\n",
       "      <th>7461</th>\n",
       "      <th>7462</th>\n",
       "      <th>7463</th>\n",
       "      <th>7464</th>\n",
       "      <th>7465</th>\n",
       "      <th>7466</th>\n",
       "      <th>7467</th>\n",
       "    </tr>\n",
       "  </thead>\n",
       "  <tbody>\n",
       "    <tr>\n",
       "      <th>0</th>\n",
       "      <td>0.011097</td>\n",
       "      <td>0.011199</td>\n",
       "      <td>0.010985</td>\n",
       "      <td>0.010543</td>\n",
       "      <td>0.010022</td>\n",
       "      <td>0.009558</td>\n",
       "      <td>0.009238</td>\n",
       "      <td>0.009085</td>\n",
       "      <td>0.009071</td>\n",
       "      <td>0.009146</td>\n",
       "      <td>...</td>\n",
       "      <td>0.007546</td>\n",
       "      <td>0.007546</td>\n",
       "      <td>0.007545</td>\n",
       "      <td>0.007542</td>\n",
       "      <td>0.007537</td>\n",
       "      <td>0.007530</td>\n",
       "      <td>0.007522</td>\n",
       "      <td>0.007512</td>\n",
       "      <td>0.007503</td>\n",
       "      <td>0.007494</td>\n",
       "    </tr>\n",
       "    <tr>\n",
       "      <th>1</th>\n",
       "      <td>0.012468</td>\n",
       "      <td>0.012486</td>\n",
       "      <td>0.012449</td>\n",
       "      <td>0.012386</td>\n",
       "      <td>0.012352</td>\n",
       "      <td>0.012396</td>\n",
       "      <td>0.012543</td>\n",
       "      <td>0.012782</td>\n",
       "      <td>0.013081</td>\n",
       "      <td>0.013398</td>\n",
       "      <td>...</td>\n",
       "      <td>0.003964</td>\n",
       "      <td>0.003966</td>\n",
       "      <td>0.003967</td>\n",
       "      <td>0.003967</td>\n",
       "      <td>0.003967</td>\n",
       "      <td>0.003969</td>\n",
       "      <td>0.003970</td>\n",
       "      <td>0.003973</td>\n",
       "      <td>0.003975</td>\n",
       "      <td>0.003976</td>\n",
       "    </tr>\n",
       "    <tr>\n",
       "      <th>2</th>\n",
       "      <td>0.018689</td>\n",
       "      <td>0.018286</td>\n",
       "      <td>0.017887</td>\n",
       "      <td>0.017561</td>\n",
       "      <td>0.017360</td>\n",
       "      <td>0.017291</td>\n",
       "      <td>0.017324</td>\n",
       "      <td>0.017413</td>\n",
       "      <td>0.017528</td>\n",
       "      <td>0.017675</td>\n",
       "      <td>...</td>\n",
       "      <td>0.000043</td>\n",
       "      <td>0.000035</td>\n",
       "      <td>0.000026</td>\n",
       "      <td>0.000016</td>\n",
       "      <td>0.000008</td>\n",
       "      <td>0.000003</td>\n",
       "      <td>0.000000</td>\n",
       "      <td>0.000001</td>\n",
       "      <td>0.000006</td>\n",
       "      <td>0.000013</td>\n",
       "    </tr>\n",
       "    <tr>\n",
       "      <th>3</th>\n",
       "      <td>0.015869</td>\n",
       "      <td>0.015885</td>\n",
       "      <td>0.015737</td>\n",
       "      <td>0.015513</td>\n",
       "      <td>0.015276</td>\n",
       "      <td>0.015056</td>\n",
       "      <td>0.014842</td>\n",
       "      <td>0.014605</td>\n",
       "      <td>0.014319</td>\n",
       "      <td>0.013989</td>\n",
       "      <td>...</td>\n",
       "      <td>0.011477</td>\n",
       "      <td>0.011465</td>\n",
       "      <td>0.011455</td>\n",
       "      <td>0.011450</td>\n",
       "      <td>0.011447</td>\n",
       "      <td>0.011448</td>\n",
       "      <td>0.011453</td>\n",
       "      <td>0.011460</td>\n",
       "      <td>0.011469</td>\n",
       "      <td>0.011480</td>\n",
       "    </tr>\n",
       "    <tr>\n",
       "      <th>4</th>\n",
       "      <td>0.006940</td>\n",
       "      <td>0.006977</td>\n",
       "      <td>0.006766</td>\n",
       "      <td>0.006420</td>\n",
       "      <td>0.006081</td>\n",
       "      <td>0.005889</td>\n",
       "      <td>0.005934</td>\n",
       "      <td>0.006241</td>\n",
       "      <td>0.006779</td>\n",
       "      <td>0.007492</td>\n",
       "      <td>...</td>\n",
       "      <td>0.003165</td>\n",
       "      <td>0.003165</td>\n",
       "      <td>0.003163</td>\n",
       "      <td>0.003158</td>\n",
       "      <td>0.003152</td>\n",
       "      <td>0.003147</td>\n",
       "      <td>0.003144</td>\n",
       "      <td>0.003142</td>\n",
       "      <td>0.003143</td>\n",
       "      <td>0.003145</td>\n",
       "    </tr>\n",
       "  </tbody>\n",
       "</table>\n",
       "<p>5 rows × 7468 columns</p>\n",
       "</div>"
      ],
      "text/plain": [
       "       0         1         2         3         4         5         6     \\\n",
       "0  0.011097  0.011199  0.010985  0.010543  0.010022  0.009558  0.009238   \n",
       "1  0.012468  0.012486  0.012449  0.012386  0.012352  0.012396  0.012543   \n",
       "2  0.018689  0.018286  0.017887  0.017561  0.017360  0.017291  0.017324   \n",
       "3  0.015869  0.015885  0.015737  0.015513  0.015276  0.015056  0.014842   \n",
       "4  0.006940  0.006977  0.006766  0.006420  0.006081  0.005889  0.005934   \n",
       "\n",
       "       7         8         9     ...      7458      7459      7460      7461  \\\n",
       "0  0.009085  0.009071  0.009146  ...  0.007546  0.007546  0.007545  0.007542   \n",
       "1  0.012782  0.013081  0.013398  ...  0.003964  0.003966  0.003967  0.003967   \n",
       "2  0.017413  0.017528  0.017675  ...  0.000043  0.000035  0.000026  0.000016   \n",
       "3  0.014605  0.014319  0.013989  ...  0.011477  0.011465  0.011455  0.011450   \n",
       "4  0.006241  0.006779  0.007492  ...  0.003165  0.003165  0.003163  0.003158   \n",
       "\n",
       "       7462      7463      7464      7465      7466      7467  \n",
       "0  0.007537  0.007530  0.007522  0.007512  0.007503  0.007494  \n",
       "1  0.003967  0.003969  0.003970  0.003973  0.003975  0.003976  \n",
       "2  0.000008  0.000003  0.000000  0.000001  0.000006  0.000013  \n",
       "3  0.011447  0.011448  0.011453  0.011460  0.011469  0.011480  \n",
       "4  0.003152  0.003147  0.003144  0.003142  0.003143  0.003145  \n",
       "\n",
       "[5 rows x 7468 columns]"
      ]
     },
     "execution_count": 4,
     "metadata": {},
     "output_type": "execute_result"
    }
   ],
   "source": [
    "Datos_IR=Datos_IR.drop(Datos_IR.columns[0], axis=1)\n",
    "print(Datos_IR.shape)\n",
    "Datos_IR.head()"
   ]
  },
  {
   "cell_type": "code",
   "execution_count": 5,
   "id": "a573d028-0ce1-4a27-b045-c401ef69fc0a",
   "metadata": {},
   "outputs": [],
   "source": [
    "# # IR transpose\n",
    "\n",
    "# Datos_IR = Datos_IR.transpose()\n",
    "# print(Datos_IR.shape)\n",
    "# Datos_IR.head()"
   ]
  },
  {
   "cell_type": "code",
   "execution_count": 6,
   "id": "f6b88606-0f8b-4353-b639-53d53879f6e7",
   "metadata": {},
   "outputs": [],
   "source": [
    "# Datos_IR=Datos_IR.drop(Datos_IR.columns[0], axis=1)\n",
    "# Datos_IR.head()"
   ]
  },
  {
   "cell_type": "markdown",
   "id": "2c850559-e5ad-47aa-9869-36d4f802348a",
   "metadata": {},
   "source": [
    "### Definir features y targets"
   ]
  },
  {
   "cell_type": "code",
   "execution_count": 7,
   "id": "dc6b03e9-2e34-40e6-baad-3957e1e44d28",
   "metadata": {},
   "outputs": [
    {
     "name": "stdout",
     "output_type": "stream",
     "text": [
      "(82, 1)\n"
     ]
    },
    {
     "data": {
      "text/html": [
       "<div>\n",
       "<style scoped>\n",
       "    .dataframe tbody tr th:only-of-type {\n",
       "        vertical-align: middle;\n",
       "    }\n",
       "\n",
       "    .dataframe tbody tr th {\n",
       "        vertical-align: top;\n",
       "    }\n",
       "\n",
       "    .dataframe thead th {\n",
       "        text-align: right;\n",
       "    }\n",
       "</style>\n",
       "<table border=\"1\" class=\"dataframe\">\n",
       "  <thead>\n",
       "    <tr style=\"text-align: right;\">\n",
       "      <th></th>\n",
       "      <th>10</th>\n",
       "    </tr>\n",
       "  </thead>\n",
       "  <tbody>\n",
       "    <tr>\n",
       "      <th>0</th>\n",
       "      <td>10</td>\n",
       "    </tr>\n",
       "    <tr>\n",
       "      <th>1</th>\n",
       "      <td>13</td>\n",
       "    </tr>\n",
       "    <tr>\n",
       "      <th>2</th>\n",
       "      <td>11</td>\n",
       "    </tr>\n",
       "    <tr>\n",
       "      <th>3</th>\n",
       "      <td>11</td>\n",
       "    </tr>\n",
       "    <tr>\n",
       "      <th>4</th>\n",
       "      <td>14</td>\n",
       "    </tr>\n",
       "  </tbody>\n",
       "</table>\n",
       "</div>"
      ],
      "text/plain": [
       "   10\n",
       "0  10\n",
       "1  13\n",
       "2  11\n",
       "3  11\n",
       "4  14"
      ]
     },
     "execution_count": 7,
     "metadata": {},
     "output_type": "execute_result"
    }
   ],
   "source": [
    "#En las columnas están las muestras (82) y sus espectros ir\n",
    "Datos_IR_Target = pd.read_excel(\"Data/ASCI_IR.xlsx\", sheet_name='ASCI')#import dtframe ,skipinitialspace=True, skiprows=1\n",
    "\n",
    "print(Datos_IR_Target.shape)#Ver tamaño dataset\n",
    "Datos_IR_Target.head() #print dt frame"
   ]
  },
  {
   "cell_type": "code",
   "execution_count": 8,
   "id": "661ca4f1-fd74-4fef-81da-2dda53d42977",
   "metadata": {},
   "outputs": [],
   "source": [
    "# print(dt_features.shape)\n",
    "# print(dt_target.shape)"
   ]
  },
  {
   "cell_type": "code",
   "execution_count": 9,
   "id": "a2ce6790-3aac-4b61-bd9a-caa65a33ee17",
   "metadata": {},
   "outputs": [
    {
     "data": {
      "text/plain": [
       "array([[1.10966015e-02, 1.11991453e-02, 1.09848555e-02, ...,\n",
       "        7.51200917e-03, 7.50250605e-03, 7.49422931e-03],\n",
       "       [1.24679071e-02, 1.24862852e-02, 1.24491321e-02, ...,\n",
       "        3.97298076e-03, 3.97471363e-03, 3.97558006e-03],\n",
       "       [1.86894114e-02, 1.82859382e-02, 1.78871333e-02, ...,\n",
       "        1.27441867e-06, 5.94731911e-06, 1.27443550e-05],\n",
       "       ...,\n",
       "       [1.45187850e-02, 1.53134737e-02, 1.64545678e-02, ...,\n",
       "        1.18493698e-02, 1.18557313e-02, 1.18633563e-02],\n",
       "       [1.20981036e-02, 1.35690496e-02, 1.48558137e-02, ...,\n",
       "        4.20803575e-03, 4.20305128e-03, 4.19621426e-03],\n",
       "       [3.64273530e-02, 3.65206370e-02, 3.63052743e-02, ...,\n",
       "        9.59961893e-06, 5.00847036e-06, 0.00000000e+00]])"
      ]
     },
     "execution_count": 9,
     "metadata": {},
     "output_type": "execute_result"
    }
   ],
   "source": [
    "dt_features= Datos_IR.values[:,:] \n",
    "dt_features"
   ]
  },
  {
   "cell_type": "code",
   "execution_count": 10,
   "id": "8789e502-6b41-406a-80f7-25cbd2223a2f",
   "metadata": {},
   "outputs": [
    {
     "data": {
      "text/plain": [
       "array([10, 13, 11, 11, 14, 10, 14, 16, 18, 16, 12, 15, 17, 10, 12, 12, 12,\n",
       "       15, 19, 15, 11, 12, 17, 11, 11, 16, 19, 20, 16, 13, 15, 13, 14, 13,\n",
       "        5, 11, 12, 18, 15, 17, 16, 17, 12, 17,  8, 17, 17, 17, 17,  6, 17,\n",
       "       12, 15, 14, 20, 20, 11, 16, 17, 17, 13, 15, 16, 15, 14, 15, 10, 20,\n",
       "       14, 20, 10,  9, 13, 11, 12, 13,  8, 10,  9, 11, 12, 11],\n",
       "      dtype=int64)"
      ]
     },
     "execution_count": 10,
     "metadata": {},
     "output_type": "execute_result"
    }
   ],
   "source": [
    "dt_target= Datos_IR_Target.values[:,0] \n",
    "dt_target"
   ]
  },
  {
   "cell_type": "code",
   "execution_count": 11,
   "id": "cd181eee-b9ee-4a41-9846-b518f7e461f0",
   "metadata": {},
   "outputs": [],
   "source": [
    "# dt_features = Normalizer().fit_transform(dt_features) #Normalizar datos"
   ]
  },
  {
   "cell_type": "code",
   "execution_count": 12,
   "id": "3722e3fb-fe4d-4394-aea2-939ad381c3f5",
   "metadata": {},
   "outputs": [
    {
     "name": "stdout",
     "output_type": "stream",
     "text": [
      "(82, 7468)\n",
      "(82,)\n"
     ]
    }
   ],
   "source": [
    "print(dt_features.shape)\n",
    "print(dt_target.shape)"
   ]
  },
  {
   "cell_type": "markdown",
   "id": "7ccfa7a8-ee4e-48a6-a747-9062962d895a",
   "metadata": {},
   "source": [
    "## Aplicacion Red Neuronal"
   ]
  },
  {
   "cell_type": "code",
   "execution_count": 13,
   "id": "3a501d11-a204-4b8c-84ae-e3612c1cca46",
   "metadata": {},
   "outputs": [],
   "source": [
    "from tensorflow.keras.models import Sequential\n",
    "from tensorflow.keras.layers import Dense, Normalization\n",
    "\n",
    "from sklearn.neural_network import MLPRegressor\n",
    "from sklearn.datasets import make_regression"
   ]
  },
  {
   "cell_type": "code",
   "execution_count": 14,
   "id": "67177e8e-8ad5-444c-a119-f403c635e87e",
   "metadata": {},
   "outputs": [],
   "source": [
    "X_train, X_test, y_train, y_test= train_test_split(dt_features, dt_target, train_size = 0.8, random_state = 0) #parametro random state permite que siempre su usen las mismas muestras"
   ]
  },
  {
   "cell_type": "code",
   "execution_count": 16,
   "id": "a45fdff4-3708-48ed-9e60-2a58a0b53df3",
   "metadata": {},
   "outputs": [
    {
     "name": "stdout",
     "output_type": "stream",
     "text": [
      "(65, 7468)\n",
      "(65,)\n",
      "(17, 7468)\n",
      "(17,)\n",
      "(82,)\n"
     ]
    },
    {
     "data": {
      "text/plain": [
       "numpy.ndarray"
      ]
     },
     "execution_count": 16,
     "metadata": {},
     "output_type": "execute_result"
    }
   ],
   "source": [
    "print(X_train.shape)\n",
    "print(y_train.shape)\n",
    "print(X_test.shape)\n",
    "print(y_test.shape)\n",
    "dt_features.shape\n",
    "print(dt_target.shape)\n",
    "type(dt_features)"
   ]
  },
  {
   "cell_type": "code",
   "execution_count": 18,
   "id": "6ef1959b-2843-44b8-b04f-03a560bc2f10",
   "metadata": {},
   "outputs": [
    {
     "name": "stdout",
     "output_type": "stream",
     "text": [
      "[[0. 0. 0. ... 0. 0. 0.]\n",
      " [0. 0. 0. ... 0. 0. 0.]\n",
      " [0. 0. 0. ... 0. 0. 0.]\n",
      " ...\n",
      " [0. 0. 0. ... 0. 0. 0.]\n",
      " [0. 0. 0. ... 0. 0. 0.]\n",
      " [0. 0. 0. ... 0. 0. 0.]]\n",
      "(65, 21)\n",
      "[[0. 0. 0. 0. 0. 0. 0. 0. 0. 0. 0. 0. 0. 0. 0. 0. 0. 0. 0. 0. 1.]\n",
      " [0. 0. 0. 0. 0. 0. 0. 0. 0. 0. 0. 1. 0. 0. 0. 0. 0. 0. 0. 0. 0.]\n",
      " [0. 0. 0. 0. 0. 0. 0. 0. 0. 0. 0. 0. 0. 0. 0. 0. 1. 0. 0. 0. 0.]\n",
      " [0. 0. 0. 0. 0. 0. 0. 0. 0. 0. 0. 0. 0. 0. 0. 0. 0. 1. 0. 0. 0.]\n",
      " [0. 0. 0. 0. 0. 0. 0. 0. 0. 0. 0. 0. 0. 0. 0. 0. 0. 0. 1. 0. 0.]\n",
      " [0. 0. 0. 0. 0. 0. 0. 0. 0. 0. 0. 0. 1. 0. 0. 0. 0. 0. 0. 0. 0.]\n",
      " [0. 0. 0. 0. 0. 0. 0. 0. 0. 0. 0. 0. 0. 0. 0. 0. 1. 0. 0. 0. 0.]\n",
      " [0. 0. 0. 0. 0. 0. 0. 0. 0. 0. 1. 0. 0. 0. 0. 0. 0. 0. 0. 0. 0.]\n",
      " [0. 0. 0. 0. 0. 0. 0. 0. 0. 0. 0. 1. 0. 0. 0. 0. 0. 0. 0. 0. 0.]\n",
      " [0. 0. 0. 0. 0. 0. 0. 0. 0. 0. 0. 0. 0. 0. 1. 0. 0. 0. 0. 0. 0.]\n",
      " [0. 0. 0. 0. 0. 0. 0. 0. 0. 0. 0. 0. 0. 0. 0. 1. 0. 0. 0. 0. 0.]\n",
      " [0. 0. 0. 0. 0. 0. 0. 0. 0. 0. 1. 0. 0. 0. 0. 0. 0. 0. 0. 0. 0.]\n",
      " [0. 0. 0. 0. 0. 0. 0. 0. 0. 0. 0. 0. 0. 0. 0. 0. 0. 1. 0. 0. 0.]\n",
      " [0. 0. 0. 0. 0. 0. 0. 0. 0. 0. 0. 0. 0. 1. 0. 0. 0. 0. 0. 0. 0.]\n",
      " [0. 0. 0. 0. 0. 0. 0. 0. 0. 0. 0. 0. 0. 1. 0. 0. 0. 0. 0. 0. 0.]\n",
      " [0. 0. 0. 0. 0. 0. 0. 0. 0. 0. 0. 0. 0. 1. 0. 0. 0. 0. 0. 0. 0.]\n",
      " [0. 0. 0. 0. 0. 0. 0. 0. 0. 0. 0. 1. 0. 0. 0. 0. 0. 0. 0. 0. 0.]]\n",
      "(17, 21)\n"
     ]
    }
   ],
   "source": [
    "train_labels = to_categorical(y_train)\n",
    "test_labels = to_categorical(y_test)\n",
    "\n",
    "print (train_labels)\n",
    "print (train_labels.shape)\n",
    "\n",
    "print(test_labels)\n",
    "print(test_labels.shape)"
   ]
  },
  {
   "cell_type": "code",
   "execution_count": 22,
   "id": "84d0f4b7-be68-4998-be1a-6e4ac8b88b45",
   "metadata": {},
   "outputs": [],
   "source": [
    "from keras import layers, models\n",
    "\n",
    "\n",
    "model = models.Sequential()\n",
    "model.add(layers.Dense(512, activation='relu', input_shape=(7468,)))  # Agrega una coma después de (7468)\n",
    "model.add(layers.Dense(20,activation='softmax'))"
   ]
  },
  {
   "cell_type": "code",
   "execution_count": 23,
   "id": "e6a1ec8f-e7aa-498d-8060-6e98e4eaf306",
   "metadata": {},
   "outputs": [],
   "source": [
    "#compilar el modelo\n",
    "model.compile(optimizer='rmsprop', \n",
    "              loss='categorical_crossentropy',\n",
    "              metrics = 'accuracy')"
   ]
  },
  {
   "cell_type": "code",
   "execution_count": 25,
   "id": "ef401713-e06a-40e8-a2a4-da4e7b2912b3",
   "metadata": {},
   "outputs": [
    {
     "name": "stdout",
     "output_type": "stream",
     "text": [
      "Epoch 1/5\n"
     ]
    },
    {
     "ename": "ValueError",
     "evalue": "in user code:\n\n    File \"D:\\Usuario\\Programas\\anaconda3\\envs\\MachineLearning\\lib\\site-packages\\keras\\engine\\training.py\", line 1051, in train_function  *\n        return step_function(self, iterator)\n    File \"D:\\Usuario\\Programas\\anaconda3\\envs\\MachineLearning\\lib\\site-packages\\keras\\engine\\training.py\", line 1040, in step_function  **\n        outputs = model.distribute_strategy.run(run_step, args=(data,))\n    File \"D:\\Usuario\\Programas\\anaconda3\\envs\\MachineLearning\\lib\\site-packages\\keras\\engine\\training.py\", line 1030, in run_step  **\n        outputs = model.train_step(data)\n    File \"D:\\Usuario\\Programas\\anaconda3\\envs\\MachineLearning\\lib\\site-packages\\keras\\engine\\training.py\", line 890, in train_step\n        loss = self.compute_loss(x, y, y_pred, sample_weight)\n    File \"D:\\Usuario\\Programas\\anaconda3\\envs\\MachineLearning\\lib\\site-packages\\keras\\engine\\training.py\", line 949, in compute_loss\n        y, y_pred, sample_weight, regularization_losses=self.losses)\n    File \"D:\\Usuario\\Programas\\anaconda3\\envs\\MachineLearning\\lib\\site-packages\\keras\\engine\\compile_utils.py\", line 201, in __call__\n        loss_value = loss_obj(y_t, y_p, sample_weight=sw)\n    File \"D:\\Usuario\\Programas\\anaconda3\\envs\\MachineLearning\\lib\\site-packages\\keras\\losses.py\", line 139, in __call__\n        losses = call_fn(y_true, y_pred)\n    File \"D:\\Usuario\\Programas\\anaconda3\\envs\\MachineLearning\\lib\\site-packages\\keras\\losses.py\", line 243, in call  **\n        return ag_fn(y_true, y_pred, **self._fn_kwargs)\n    File \"D:\\Usuario\\Programas\\anaconda3\\envs\\MachineLearning\\lib\\site-packages\\keras\\losses.py\", line 1788, in categorical_crossentropy\n        y_true, y_pred, from_logits=from_logits, axis=axis)\n    File \"D:\\Usuario\\Programas\\anaconda3\\envs\\MachineLearning\\lib\\site-packages\\keras\\backend.py\", line 5119, in categorical_crossentropy\n        target.shape.assert_is_compatible_with(output.shape)\n\n    ValueError: Shapes (None, 1) and (None, 10) are incompatible\n",
     "output_type": "error",
     "traceback": [
      "\u001b[1;31m---------------------------------------------------------------------------\u001b[0m",
      "\u001b[1;31mValueError\u001b[0m                                Traceback (most recent call last)",
      "\u001b[1;32m~\\AppData\\Local\\Temp\\ipykernel_108556\\98045259.py\u001b[0m in \u001b[0;36m<module>\u001b[1;34m\u001b[0m\n\u001b[1;32m----> 1\u001b[1;33m \u001b[0mmodel\u001b[0m\u001b[1;33m.\u001b[0m\u001b[0mfit\u001b[0m\u001b[1;33m(\u001b[0m\u001b[0mX_train\u001b[0m\u001b[1;33m,\u001b[0m \u001b[0my_train\u001b[0m\u001b[1;33m,\u001b[0m \u001b[0mepochs\u001b[0m\u001b[1;33m=\u001b[0m\u001b[1;36m5\u001b[0m\u001b[1;33m,\u001b[0m \u001b[0mbatch_size\u001b[0m\u001b[1;33m=\u001b[0m\u001b[1;36m128\u001b[0m\u001b[1;33m)\u001b[0m\u001b[1;33m\u001b[0m\u001b[1;33m\u001b[0m\u001b[0m\n\u001b[0m",
      "\u001b[1;32mD:\\Usuario\\Programas\\anaconda3\\envs\\MachineLearning\\lib\\site-packages\\keras\\utils\\traceback_utils.py\u001b[0m in \u001b[0;36merror_handler\u001b[1;34m(*args, **kwargs)\u001b[0m\n\u001b[0;32m     65\u001b[0m     \u001b[1;32mexcept\u001b[0m \u001b[0mException\u001b[0m \u001b[1;32mas\u001b[0m \u001b[0me\u001b[0m\u001b[1;33m:\u001b[0m  \u001b[1;31m# pylint: disable=broad-except\u001b[0m\u001b[1;33m\u001b[0m\u001b[1;33m\u001b[0m\u001b[0m\n\u001b[0;32m     66\u001b[0m       \u001b[0mfiltered_tb\u001b[0m \u001b[1;33m=\u001b[0m \u001b[0m_process_traceback_frames\u001b[0m\u001b[1;33m(\u001b[0m\u001b[0me\u001b[0m\u001b[1;33m.\u001b[0m\u001b[0m__traceback__\u001b[0m\u001b[1;33m)\u001b[0m\u001b[1;33m\u001b[0m\u001b[1;33m\u001b[0m\u001b[0m\n\u001b[1;32m---> 67\u001b[1;33m       \u001b[1;32mraise\u001b[0m \u001b[0me\u001b[0m\u001b[1;33m.\u001b[0m\u001b[0mwith_traceback\u001b[0m\u001b[1;33m(\u001b[0m\u001b[0mfiltered_tb\u001b[0m\u001b[1;33m)\u001b[0m \u001b[1;32mfrom\u001b[0m \u001b[1;32mNone\u001b[0m\u001b[1;33m\u001b[0m\u001b[1;33m\u001b[0m\u001b[0m\n\u001b[0m\u001b[0;32m     68\u001b[0m     \u001b[1;32mfinally\u001b[0m\u001b[1;33m:\u001b[0m\u001b[1;33m\u001b[0m\u001b[1;33m\u001b[0m\u001b[0m\n\u001b[0;32m     69\u001b[0m       \u001b[1;32mdel\u001b[0m \u001b[0mfiltered_tb\u001b[0m\u001b[1;33m\u001b[0m\u001b[1;33m\u001b[0m\u001b[0m\n",
      "\u001b[1;32mD:\\Usuario\\Programas\\anaconda3\\envs\\MachineLearning\\lib\\site-packages\\keras\\engine\\training.py\u001b[0m in \u001b[0;36mtf__train_function\u001b[1;34m(iterator)\u001b[0m\n\u001b[0;32m     13\u001b[0m                 \u001b[1;32mtry\u001b[0m\u001b[1;33m:\u001b[0m\u001b[1;33m\u001b[0m\u001b[1;33m\u001b[0m\u001b[0m\n\u001b[0;32m     14\u001b[0m                     \u001b[0mdo_return\u001b[0m \u001b[1;33m=\u001b[0m \u001b[1;32mTrue\u001b[0m\u001b[1;33m\u001b[0m\u001b[1;33m\u001b[0m\u001b[0m\n\u001b[1;32m---> 15\u001b[1;33m                     \u001b[0mretval_\u001b[0m \u001b[1;33m=\u001b[0m \u001b[0mag__\u001b[0m\u001b[1;33m.\u001b[0m\u001b[0mconverted_call\u001b[0m\u001b[1;33m(\u001b[0m\u001b[0mag__\u001b[0m\u001b[1;33m.\u001b[0m\u001b[0mld\u001b[0m\u001b[1;33m(\u001b[0m\u001b[0mstep_function\u001b[0m\u001b[1;33m)\u001b[0m\u001b[1;33m,\u001b[0m \u001b[1;33m(\u001b[0m\u001b[0mag__\u001b[0m\u001b[1;33m.\u001b[0m\u001b[0mld\u001b[0m\u001b[1;33m(\u001b[0m\u001b[0mself\u001b[0m\u001b[1;33m)\u001b[0m\u001b[1;33m,\u001b[0m \u001b[0mag__\u001b[0m\u001b[1;33m.\u001b[0m\u001b[0mld\u001b[0m\u001b[1;33m(\u001b[0m\u001b[0miterator\u001b[0m\u001b[1;33m)\u001b[0m\u001b[1;33m)\u001b[0m\u001b[1;33m,\u001b[0m \u001b[1;32mNone\u001b[0m\u001b[1;33m,\u001b[0m \u001b[0mfscope\u001b[0m\u001b[1;33m)\u001b[0m\u001b[1;33m\u001b[0m\u001b[1;33m\u001b[0m\u001b[0m\n\u001b[0m\u001b[0;32m     16\u001b[0m                 \u001b[1;32mexcept\u001b[0m\u001b[1;33m:\u001b[0m\u001b[1;33m\u001b[0m\u001b[1;33m\u001b[0m\u001b[0m\n\u001b[0;32m     17\u001b[0m                     \u001b[0mdo_return\u001b[0m \u001b[1;33m=\u001b[0m \u001b[1;32mFalse\u001b[0m\u001b[1;33m\u001b[0m\u001b[1;33m\u001b[0m\u001b[0m\n",
      "\u001b[1;31mValueError\u001b[0m: in user code:\n\n    File \"D:\\Usuario\\Programas\\anaconda3\\envs\\MachineLearning\\lib\\site-packages\\keras\\engine\\training.py\", line 1051, in train_function  *\n        return step_function(self, iterator)\n    File \"D:\\Usuario\\Programas\\anaconda3\\envs\\MachineLearning\\lib\\site-packages\\keras\\engine\\training.py\", line 1040, in step_function  **\n        outputs = model.distribute_strategy.run(run_step, args=(data,))\n    File \"D:\\Usuario\\Programas\\anaconda3\\envs\\MachineLearning\\lib\\site-packages\\keras\\engine\\training.py\", line 1030, in run_step  **\n        outputs = model.train_step(data)\n    File \"D:\\Usuario\\Programas\\anaconda3\\envs\\MachineLearning\\lib\\site-packages\\keras\\engine\\training.py\", line 890, in train_step\n        loss = self.compute_loss(x, y, y_pred, sample_weight)\n    File \"D:\\Usuario\\Programas\\anaconda3\\envs\\MachineLearning\\lib\\site-packages\\keras\\engine\\training.py\", line 949, in compute_loss\n        y, y_pred, sample_weight, regularization_losses=self.losses)\n    File \"D:\\Usuario\\Programas\\anaconda3\\envs\\MachineLearning\\lib\\site-packages\\keras\\engine\\compile_utils.py\", line 201, in __call__\n        loss_value = loss_obj(y_t, y_p, sample_weight=sw)\n    File \"D:\\Usuario\\Programas\\anaconda3\\envs\\MachineLearning\\lib\\site-packages\\keras\\losses.py\", line 139, in __call__\n        losses = call_fn(y_true, y_pred)\n    File \"D:\\Usuario\\Programas\\anaconda3\\envs\\MachineLearning\\lib\\site-packages\\keras\\losses.py\", line 243, in call  **\n        return ag_fn(y_true, y_pred, **self._fn_kwargs)\n    File \"D:\\Usuario\\Programas\\anaconda3\\envs\\MachineLearning\\lib\\site-packages\\keras\\losses.py\", line 1788, in categorical_crossentropy\n        y_true, y_pred, from_logits=from_logits, axis=axis)\n    File \"D:\\Usuario\\Programas\\anaconda3\\envs\\MachineLearning\\lib\\site-packages\\keras\\backend.py\", line 5119, in categorical_crossentropy\n        target.shape.assert_is_compatible_with(output.shape)\n\n    ValueError: Shapes (None, 1) and (None, 10) are incompatible\n"
     ]
    }
   ],
   "source": [
    "model.fit(X_train, y_train, epochs=5, batch_size=128) "
   ]
  },
  {
   "cell_type": "code",
   "execution_count": 164,
   "id": "8ddc5385-6d03-49f7-9095-752742e81558",
   "metadata": {},
   "outputs": [
    {
     "data": {
      "image/png": "[encoded data removed]",
      "text/plain": [
       "<Figure size 640x480 with 1 Axes>"
      ]
     },
     "metadata": {},
     "output_type": "display_data"
    }
   ],
   "source": [
    "import matplotlib.pyplot as plt\n",
    "\n",
    "# Seleccionar una columna específica para graficar\n",
    "feature_index = 0  # Índice de la columna que deseas graficar\n",
    "\n",
    "plt.scatter(X_train[:, feature_index], y_train, color='blue', label='Train')\n",
    "plt.scatter(X_test[:, feature_index], y_test, color='red', label='Test')\n",
    "plt.xlabel('Característica')\n",
    "plt.ylabel('Objetivo')\n",
    "plt.title('Distribución de datos de entrenamiento y prueba')\n",
    "plt.legend()\n",
    "plt.show()\n"
   ]
  },
  {
   "cell_type": "code",
   "execution_count": 165,
   "id": "f544b70e-6281-4621-85ed-8c088d7c336b",
   "metadata": {},
   "outputs": [],
   "source": [
    "#Normalizacion Datos\n",
    "def crear_normalizador(data):\n",
    "    normalizer= Normalization (axis=1)\n",
    "    normalizer.adapt(np.array(data))\n",
    "    return normalizer"
   ]
  },
  {
   "cell_type": "code",
   "execution_count": 166,
   "id": "d3349490-00c5-42fb-82a1-0455f5d0967f",
   "metadata": {},
   "outputs": [],
   "source": [
    "normalizador = crear_normalizador(X_train)"
   ]
  },
  {
   "cell_type": "code",
   "execution_count": 287,
   "id": "35e1eb16-0310-4c04-8474-b2087cd4cfa6",
   "metadata": {},
   "outputs": [],
   "source": [
    "from tensorflow.keras.optimizers import Adam, Adamax, RMSprop, SGD\n",
    "\n",
    "def crean_nn_regresion(norm):\n",
    "    model = Sequential([\n",
    "        norm,\n",
    "        Dense(128, activation='relu'),\n",
    "        Dense(64, activation='relu'),\n",
    "        Dense(32, activation='relu'),\n",
    "        Dense(1, activation='linear')\n",
    "    ])\n",
    "    optimizador=Adam(learning_rate=0.001)\n",
    "    model.compile(optimizer=optimizador, loss='mean_squared_error', metrics=[tf.keras.metrics.MeanSquaredError()])\n",
    "    return model\n"
   ]
  },
  {
   "cell_type": "code",
   "execution_count": 288,
   "id": "59f0a373-ce42-4f77-8d24-d670efc316c5",
   "metadata": {},
   "outputs": [],
   "source": [
    "nn= crean_nn_regresion(normalizador)"
   ]
  },
  {
   "cell_type": "code",
   "execution_count": 291,
   "id": "6297e80f-3692-418a-ac46-f7762ee61052",
   "metadata": {},
   "outputs": [
    {
     "name": "stdout",
     "output_type": "stream",
     "text": [
      "Epoch 1/100\n",
      "2/2 [==============================] - 0s 108ms/step - loss: 0.0343 - mean_squared_error: 0.0343 - val_loss: 6.5583 - val_mean_squared_error: 6.5583\n",
      "Epoch 2/100\n",
      "2/2 [==============================] - 0s 45ms/step - loss: 0.0426 - mean_squared_error: 0.0426 - val_loss: 6.5281 - val_mean_squared_error: 6.5281\n",
      "Epoch 3/100\n",
      "2/2 [==============================] - 0s 45ms/step - loss: 0.0226 - mean_squared_error: 0.0226 - val_loss: 6.3546 - val_mean_squared_error: 6.3546\n",
      "Epoch 4/100\n",
      "2/2 [==============================] - 0s 39ms/step - loss: 0.0198 - mean_squared_error: 0.0198 - val_loss: 6.4684 - val_mean_squared_error: 6.4684\n",
      "Epoch 5/100\n",
      "2/2 [==============================] - 0s 44ms/step - loss: 0.0241 - mean_squared_error: 0.0241 - val_loss: 6.8250 - val_mean_squared_error: 6.8250\n",
      "Epoch 6/100\n",
      "2/2 [==============================] - 0s 49ms/step - loss: 0.0276 - mean_squared_error: 0.0276 - val_loss: 6.8564 - val_mean_squared_error: 6.8564\n",
      "Epoch 7/100\n",
      "2/2 [==============================] - 0s 42ms/step - loss: 0.0181 - mean_squared_error: 0.0181 - val_loss: 6.6275 - val_mean_squared_error: 6.6275\n",
      "Epoch 8/100\n",
      "2/2 [==============================] - 0s 39ms/step - loss: 0.0278 - mean_squared_error: 0.0278 - val_loss: 6.5362 - val_mean_squared_error: 6.5362\n",
      "Epoch 9/100\n",
      "2/2 [==============================] - 0s 49ms/step - loss: 0.0277 - mean_squared_error: 0.0277 - val_loss: 6.4781 - val_mean_squared_error: 6.4781\n",
      "Epoch 10/100\n",
      "2/2 [==============================] - 0s 39ms/step - loss: 0.0179 - mean_squared_error: 0.0179 - val_loss: 6.5620 - val_mean_squared_error: 6.5620\n",
      "Epoch 11/100\n",
      "2/2 [==============================] - 0s 43ms/step - loss: 0.0165 - mean_squared_error: 0.0165 - val_loss: 6.5352 - val_mean_squared_error: 6.5352\n",
      "Epoch 12/100\n",
      "2/2 [==============================] - 0s 41ms/step - loss: 0.0133 - mean_squared_error: 0.0133 - val_loss: 6.4952 - val_mean_squared_error: 6.4952\n",
      "Epoch 13/100\n",
      "2/2 [==============================] - 0s 32ms/step - loss: 0.0124 - mean_squared_error: 0.0124 - val_loss: 6.5352 - val_mean_squared_error: 6.5352\n",
      "Epoch 14/100\n",
      "2/2 [==============================] - 0s 46ms/step - loss: 0.0129 - mean_squared_error: 0.0129 - val_loss: 6.5429 - val_mean_squared_error: 6.5429\n",
      "Epoch 15/100\n",
      "2/2 [==============================] - 0s 49ms/step - loss: 0.0125 - mean_squared_error: 0.0125 - val_loss: 6.3554 - val_mean_squared_error: 6.3554\n",
      "Epoch 16/100\n",
      "2/2 [==============================] - 0s 47ms/step - loss: 0.0131 - mean_squared_error: 0.0131 - val_loss: 6.4205 - val_mean_squared_error: 6.4205\n",
      "Epoch 17/100\n",
      "2/2 [==============================] - 0s 33ms/step - loss: 0.0028 - mean_squared_error: 0.0028 - val_loss: 6.6371 - val_mean_squared_error: 6.6371\n",
      "Epoch 18/100\n",
      "2/2 [==============================] - 0s 41ms/step - loss: 0.0076 - mean_squared_error: 0.0076 - val_loss: 6.6247 - val_mean_squared_error: 6.6247\n",
      "Epoch 19/100\n",
      "2/2 [==============================] - 0s 51ms/step - loss: 0.0043 - mean_squared_error: 0.0043 - val_loss: 6.4727 - val_mean_squared_error: 6.4727\n",
      "Epoch 20/100\n",
      "2/2 [==============================] - 0s 55ms/step - loss: 0.0021 - mean_squared_error: 0.0021 - val_loss: 6.3984 - val_mean_squared_error: 6.3984\n",
      "Epoch 21/100\n",
      "2/2 [==============================] - 0s 59ms/step - loss: 0.0064 - mean_squared_error: 0.0064 - val_loss: 6.4491 - val_mean_squared_error: 6.4491\n",
      "Epoch 22/100\n",
      "2/2 [==============================] - 0s 57ms/step - loss: 0.0031 - mean_squared_error: 0.0031 - val_loss: 6.5404 - val_mean_squared_error: 6.5404\n",
      "Epoch 23/100\n",
      "2/2 [==============================] - 0s 63ms/step - loss: 0.0076 - mean_squared_error: 0.0076 - val_loss: 6.5499 - val_mean_squared_error: 6.5499\n",
      "Epoch 24/100\n",
      "2/2 [==============================] - 0s 62ms/step - loss: 0.0039 - mean_squared_error: 0.0039 - val_loss: 6.4716 - val_mean_squared_error: 6.4716\n",
      "Epoch 25/100\n",
      "2/2 [==============================] - 0s 64ms/step - loss: 0.0061 - mean_squared_error: 0.0061 - val_loss: 6.4781 - val_mean_squared_error: 6.4781\n",
      "Epoch 26/100\n",
      "2/2 [==============================] - 0s 103ms/step - loss: 0.0032 - mean_squared_error: 0.0032 - val_loss: 6.5848 - val_mean_squared_error: 6.5848\n",
      "Epoch 27/100\n",
      "2/2 [==============================] - 0s 71ms/step - loss: 0.0100 - mean_squared_error: 0.0100 - val_loss: 6.5290 - val_mean_squared_error: 6.5290\n",
      "Epoch 28/100\n",
      "2/2 [==============================] - 0s 90ms/step - loss: 0.0049 - mean_squared_error: 0.0049 - val_loss: 6.3402 - val_mean_squared_error: 6.3402\n",
      "Epoch 29/100\n",
      "2/2 [==============================] - 0s 67ms/step - loss: 0.0165 - mean_squared_error: 0.0165 - val_loss: 6.4668 - val_mean_squared_error: 6.4668\n",
      "Epoch 30/100\n",
      "2/2 [==============================] - 0s 66ms/step - loss: 0.0092 - mean_squared_error: 0.0092 - val_loss: 6.7131 - val_mean_squared_error: 6.7131\n",
      "Epoch 31/100\n",
      "2/2 [==============================] - 0s 95ms/step - loss: 0.0264 - mean_squared_error: 0.0264 - val_loss: 6.5716 - val_mean_squared_error: 6.5716\n",
      "Epoch 32/100\n",
      "2/2 [==============================] - 0s 80ms/step - loss: 0.0110 - mean_squared_error: 0.0110 - val_loss: 6.2670 - val_mean_squared_error: 6.2670\n",
      "Epoch 33/100\n",
      "2/2 [==============================] - 0s 99ms/step - loss: 0.0638 - mean_squared_error: 0.0638 - val_loss: 6.4377 - val_mean_squared_error: 6.4377\n",
      "Epoch 34/100\n",
      "2/2 [==============================] - 0s 170ms/step - loss: 0.0315 - mean_squared_error: 0.0315 - val_loss: 6.9085 - val_mean_squared_error: 6.9085\n",
      "Epoch 35/100\n",
      "2/2 [==============================] - 0s 96ms/step - loss: 0.0633 - mean_squared_error: 0.0633 - val_loss: 6.7642 - val_mean_squared_error: 6.7642\n",
      "Epoch 36/100\n",
      "2/2 [==============================] - 0s 72ms/step - loss: 0.0263 - mean_squared_error: 0.0263 - val_loss: 6.4643 - val_mean_squared_error: 6.4643\n",
      "Epoch 37/100\n",
      "2/2 [==============================] - 0s 92ms/step - loss: 0.0536 - mean_squared_error: 0.0536 - val_loss: 6.4698 - val_mean_squared_error: 6.4698\n",
      "Epoch 38/100\n",
      "2/2 [==============================] - 0s 78ms/step - loss: 0.0349 - mean_squared_error: 0.0349 - val_loss: 6.8347 - val_mean_squared_error: 6.8347\n",
      "Epoch 39/100\n",
      "2/2 [==============================] - 0s 104ms/step - loss: 0.0506 - mean_squared_error: 0.0506 - val_loss: 6.6954 - val_mean_squared_error: 6.6954\n",
      "Epoch 40/100\n",
      "2/2 [==============================] - 0s 94ms/step - loss: 0.0197 - mean_squared_error: 0.0197 - val_loss: 6.4842 - val_mean_squared_error: 6.4842\n",
      "Epoch 41/100\n",
      "2/2 [==============================] - 0s 108ms/step - loss: 0.0259 - mean_squared_error: 0.0259 - val_loss: 6.4283 - val_mean_squared_error: 6.4283\n",
      "Epoch 42/100\n",
      "2/2 [==============================] - 0s 75ms/step - loss: 0.0151 - mean_squared_error: 0.0151 - val_loss: 6.5352 - val_mean_squared_error: 6.5352\n",
      "Epoch 43/100\n",
      "2/2 [==============================] - 0s 116ms/step - loss: 0.0319 - mean_squared_error: 0.0319 - val_loss: 6.4524 - val_mean_squared_error: 6.4524\n",
      "Epoch 44/100\n",
      "2/2 [==============================] - 0s 110ms/step - loss: 0.0105 - mean_squared_error: 0.0105 - val_loss: 6.4075 - val_mean_squared_error: 6.4075\n",
      "Epoch 45/100\n",
      "2/2 [==============================] - 0s 105ms/step - loss: 0.0299 - mean_squared_error: 0.0299 - val_loss: 6.5063 - val_mean_squared_error: 6.5063\n",
      "Epoch 46/100\n",
      "2/2 [==============================] - 0s 108ms/step - loss: 0.0055 - mean_squared_error: 0.0055 - val_loss: 6.5385 - val_mean_squared_error: 6.5385\n",
      "Epoch 47/100\n",
      "2/2 [==============================] - 0s 109ms/step - loss: 0.0166 - mean_squared_error: 0.0166 - val_loss: 6.4981 - val_mean_squared_error: 6.4981\n",
      "Epoch 48/100\n",
      "2/2 [==============================] - 0s 101ms/step - loss: 0.0036 - mean_squared_error: 0.0036 - val_loss: 6.4914 - val_mean_squared_error: 6.4914\n",
      "Epoch 49/100\n",
      "2/2 [==============================] - 0s 99ms/step - loss: 0.0108 - mean_squared_error: 0.0108 - val_loss: 6.5743 - val_mean_squared_error: 6.5743\n",
      "Epoch 50/100\n",
      "2/2 [==============================] - 0s 141ms/step - loss: 0.0048 - mean_squared_error: 0.0048 - val_loss: 6.5410 - val_mean_squared_error: 6.5410\n",
      "Epoch 51/100\n",
      "2/2 [==============================] - 0s 221ms/step - loss: 0.0072 - mean_squared_error: 0.0072 - val_loss: 6.4592 - val_mean_squared_error: 6.4592\n",
      "Epoch 52/100\n",
      "2/2 [==============================] - 0s 154ms/step - loss: 0.0044 - mean_squared_error: 0.0044 - val_loss: 6.4523 - val_mean_squared_error: 6.4523\n",
      "Epoch 53/100\n",
      "2/2 [==============================] - 0s 107ms/step - loss: 0.0049 - mean_squared_error: 0.0049 - val_loss: 6.5104 - val_mean_squared_error: 6.5104\n",
      "Epoch 54/100\n",
      "2/2 [==============================] - 0s 80ms/step - loss: 0.0045 - mean_squared_error: 0.0045 - val_loss: 6.6126 - val_mean_squared_error: 6.6126\n",
      "Epoch 55/100\n",
      "2/2 [==============================] - 0s 119ms/step - loss: 0.0033 - mean_squared_error: 0.0033 - val_loss: 6.5201 - val_mean_squared_error: 6.5201\n",
      "Epoch 56/100\n",
      "2/2 [==============================] - 0s 95ms/step - loss: 0.0095 - mean_squared_error: 0.0095 - val_loss: 6.5565 - val_mean_squared_error: 6.5565\n",
      "Epoch 57/100\n",
      "2/2 [==============================] - 0s 107ms/step - loss: 0.0019 - mean_squared_error: 0.0019 - val_loss: 6.7683 - val_mean_squared_error: 6.7683\n",
      "Epoch 58/100\n",
      "2/2 [==============================] - 0s 93ms/step - loss: 0.0152 - mean_squared_error: 0.0152 - val_loss: 6.5961 - val_mean_squared_error: 6.5961\n",
      "Epoch 59/100\n",
      "2/2 [==============================] - 0s 104ms/step - loss: 0.0031 - mean_squared_error: 0.0031 - val_loss: 6.4949 - val_mean_squared_error: 6.4949\n",
      "Epoch 60/100\n",
      "2/2 [==============================] - 0s 85ms/step - loss: 0.0024 - mean_squared_error: 0.0024 - val_loss: 6.5163 - val_mean_squared_error: 6.5163\n",
      "Epoch 61/100\n",
      "2/2 [==============================] - 0s 111ms/step - loss: 0.0048 - mean_squared_error: 0.0048 - val_loss: 6.5487 - val_mean_squared_error: 6.5487\n",
      "Epoch 62/100\n",
      "2/2 [==============================] - 0s 115ms/step - loss: 0.0041 - mean_squared_error: 0.0041 - val_loss: 6.5551 - val_mean_squared_error: 6.5551\n",
      "Epoch 63/100\n",
      "2/2 [==============================] - 0s 88ms/step - loss: 0.0024 - mean_squared_error: 0.0024 - val_loss: 6.5626 - val_mean_squared_error: 6.5626\n",
      "Epoch 64/100\n",
      "2/2 [==============================] - 0s 116ms/step - loss: 0.0038 - mean_squared_error: 0.0038 - val_loss: 6.4937 - val_mean_squared_error: 6.4937\n",
      "Epoch 65/100\n",
      "2/2 [==============================] - 0s 114ms/step - loss: 0.0036 - mean_squared_error: 0.0036 - val_loss: 6.5173 - val_mean_squared_error: 6.5173\n",
      "Epoch 66/100\n",
      "2/2 [==============================] - 0s 97ms/step - loss: 0.0050 - mean_squared_error: 0.0050 - val_loss: 6.5679 - val_mean_squared_error: 6.5679\n",
      "Epoch 67/100\n",
      "2/2 [==============================] - 0s 104ms/step - loss: 0.0045 - mean_squared_error: 0.0045 - val_loss: 6.5123 - val_mean_squared_error: 6.5123\n",
      "Epoch 68/100\n",
      "2/2 [==============================] - 0s 106ms/step - loss: 0.0069 - mean_squared_error: 0.0069 - val_loss: 6.5924 - val_mean_squared_error: 6.5924\n",
      "Epoch 69/100\n",
      "2/2 [==============================] - 0s 141ms/step - loss: 0.0033 - mean_squared_error: 0.0033 - val_loss: 6.5906 - val_mean_squared_error: 6.5906\n",
      "Epoch 70/100\n",
      "2/2 [==============================] - 0s 134ms/step - loss: 0.0016 - mean_squared_error: 0.0016 - val_loss: 6.5120 - val_mean_squared_error: 6.5120\n",
      "Epoch 71/100\n",
      "2/2 [==============================] - 0s 127ms/step - loss: 0.0034 - mean_squared_error: 0.0034 - val_loss: 6.5384 - val_mean_squared_error: 6.5384\n",
      "Epoch 72/100\n",
      "2/2 [==============================] - 0s 90ms/step - loss: 0.0039 - mean_squared_error: 0.0039 - val_loss: 6.5734 - val_mean_squared_error: 6.5734\n",
      "Epoch 73/100\n",
      "2/2 [==============================] - 0s 96ms/step - loss: 0.0018 - mean_squared_error: 0.0018 - val_loss: 6.5220 - val_mean_squared_error: 6.5220\n",
      "Epoch 74/100\n",
      "2/2 [==============================] - 0s 85ms/step - loss: 0.0021 - mean_squared_error: 0.0021 - val_loss: 6.5502 - val_mean_squared_error: 6.5502\n",
      "Epoch 75/100\n",
      "2/2 [==============================] - 0s 129ms/step - loss: 0.0023 - mean_squared_error: 0.0023 - val_loss: 6.5491 - val_mean_squared_error: 6.5491\n",
      "Epoch 76/100\n",
      "2/2 [==============================] - 0s 108ms/step - loss: 4.9116e-04 - mean_squared_error: 4.9116e-04 - val_loss: 6.5627 - val_mean_squared_error: 6.5627\n",
      "Epoch 77/100\n",
      "2/2 [==============================] - 0s 122ms/step - loss: 6.9757e-04 - mean_squared_error: 6.9757e-04 - val_loss: 6.5716 - val_mean_squared_error: 6.5716\n",
      "Epoch 78/100\n",
      "2/2 [==============================] - 0s 120ms/step - loss: 5.2678e-04 - mean_squared_error: 5.2678e-04 - val_loss: 6.5518 - val_mean_squared_error: 6.5518\n",
      "Epoch 79/100\n",
      "2/2 [==============================] - 0s 100ms/step - loss: 7.3171e-04 - mean_squared_error: 7.3171e-04 - val_loss: 6.5637 - val_mean_squared_error: 6.5637\n",
      "Epoch 80/100\n",
      "2/2 [==============================] - 0s 115ms/step - loss: 2.9768e-04 - mean_squared_error: 2.9768e-04 - val_loss: 6.5933 - val_mean_squared_error: 6.5933\n",
      "Epoch 81/100\n",
      "2/2 [==============================] - 0s 108ms/step - loss: 7.6073e-04 - mean_squared_error: 7.6073e-04 - val_loss: 6.5477 - val_mean_squared_error: 6.5477\n",
      "Epoch 82/100\n",
      "2/2 [==============================] - 0s 114ms/step - loss: 6.1675e-04 - mean_squared_error: 6.1675e-04 - val_loss: 6.5313 - val_mean_squared_error: 6.5313\n",
      "Epoch 83/100\n",
      "2/2 [==============================] - 0s 77ms/step - loss: 5.7375e-04 - mean_squared_error: 5.7375e-04 - val_loss: 6.5471 - val_mean_squared_error: 6.5471\n",
      "Epoch 84/100\n",
      "2/2 [==============================] - 0s 83ms/step - loss: 2.5885e-04 - mean_squared_error: 2.5885e-04 - val_loss: 6.5766 - val_mean_squared_error: 6.5766\n",
      "Epoch 85/100\n",
      "2/2 [==============================] - 0s 79ms/step - loss: 9.4105e-04 - mean_squared_error: 9.4105e-04 - val_loss: 6.5621 - val_mean_squared_error: 6.5621\n",
      "Epoch 86/100\n",
      "2/2 [==============================] - 0s 120ms/step - loss: 3.3413e-04 - mean_squared_error: 3.3413e-04 - val_loss: 6.4968 - val_mean_squared_error: 6.4968\n",
      "Epoch 87/100\n",
      "2/2 [==============================] - 0s 82ms/step - loss: 0.0015 - mean_squared_error: 0.0015 - val_loss: 6.5108 - val_mean_squared_error: 6.5108\n",
      "Epoch 88/100\n",
      "2/2 [==============================] - 0s 80ms/step - loss: 7.1201e-04 - mean_squared_error: 7.1201e-04 - val_loss: 6.5683 - val_mean_squared_error: 6.5683\n",
      "Epoch 89/100\n",
      "2/2 [==============================] - 0s 106ms/step - loss: 8.9140e-04 - mean_squared_error: 8.9140e-04 - val_loss: 6.5661 - val_mean_squared_error: 6.5661\n",
      "Epoch 90/100\n",
      "2/2 [==============================] - 0s 118ms/step - loss: 0.0010 - mean_squared_error: 0.0010 - val_loss: 6.5454 - val_mean_squared_error: 6.5454\n",
      "Epoch 91/100\n",
      "2/2 [==============================] - 0s 82ms/step - loss: 9.4710e-04 - mean_squared_error: 9.4710e-04 - val_loss: 6.5900 - val_mean_squared_error: 6.5900\n",
      "Epoch 92/100\n",
      "2/2 [==============================] - 0s 88ms/step - loss: 6.9483e-04 - mean_squared_error: 6.9483e-04 - val_loss: 6.5711 - val_mean_squared_error: 6.5711\n",
      "Epoch 93/100\n",
      "2/2 [==============================] - 0s 91ms/step - loss: 5.2146e-04 - mean_squared_error: 5.2146e-04 - val_loss: 6.5291 - val_mean_squared_error: 6.5291\n",
      "Epoch 94/100\n",
      "2/2 [==============================] - 0s 80ms/step - loss: 8.9231e-04 - mean_squared_error: 8.9231e-04 - val_loss: 6.5533 - val_mean_squared_error: 6.5533\n",
      "Epoch 95/100\n",
      "2/2 [==============================] - 0s 96ms/step - loss: 6.5546e-04 - mean_squared_error: 6.5546e-04 - val_loss: 6.5710 - val_mean_squared_error: 6.5710\n",
      "Epoch 96/100\n",
      "2/2 [==============================] - 0s 65ms/step - loss: 5.3515e-04 - mean_squared_error: 5.3515e-04 - val_loss: 6.5639 - val_mean_squared_error: 6.5639\n",
      "Epoch 97/100\n",
      "2/2 [==============================] - 0s 82ms/step - loss: 4.7590e-04 - mean_squared_error: 4.7590e-04 - val_loss: 6.5668 - val_mean_squared_error: 6.5668\n",
      "Epoch 98/100\n",
      "2/2 [==============================] - 0s 91ms/step - loss: 7.1407e-04 - mean_squared_error: 7.1407e-04 - val_loss: 6.5432 - val_mean_squared_error: 6.5432\n",
      "Epoch 99/100\n",
      "2/2 [==============================] - 0s 71ms/step - loss: 6.5821e-04 - mean_squared_error: 6.5821e-04 - val_loss: 6.5620 - val_mean_squared_error: 6.5620\n",
      "Epoch 100/100\n",
      "2/2 [==============================] - 0s 72ms/step - loss: 4.4482e-04 - mean_squared_error: 4.4482e-04 - val_loss: 6.5692 - val_mean_squared_error: 6.5692\n"
     ]
    }
   ],
   "source": [
    "# Entrenamiento modelo\n",
    "history = nn.fit(\n",
    "    X_train,\n",
    "    y_train,\n",
    "    validation_split=0.1,\n",
    "    verbose=1,\n",
    "    epochs=100\n",
    ")"
   ]
  },
  {
   "cell_type": "code",
   "execution_count": 292,
   "id": "456e5d98-02a1-4ce9-bf87-fd4d19094374",
   "metadata": {},
   "outputs": [
    {
     "name": "stdout",
     "output_type": "stream",
     "text": [
      "3/3 [==============================] - 0s 3ms/step - loss: 0.7080 - mean_squared_error: 0.7080    \n",
      "1/1 [==============================] - 0s 50ms/step - loss: 28.8339 - mean_squared_error: 28.8339\n"
     ]
    },
    {
     "data": {
      "text/plain": [
       "[28.83386993408203, 28.83386993408203]"
      ]
     },
     "execution_count": 292,
     "metadata": {},
     "output_type": "execute_result"
    }
   ],
   "source": [
    "#Valor final Borrar para mas orden al final esta repetido\n",
    "nn.evaluate(X_train, y_train, verbose=1)\n",
    "nn.evaluate(X_test, y_test, verbose=1)"
   ]
  },
  {
   "cell_type": "code",
   "execution_count": 293,
   "id": "55f16769-ad96-4936-9499-7470ee6493d7",
   "metadata": {},
   "outputs": [
    {
     "name": "stdout",
     "output_type": "stream",
     "text": [
      "3/3 [==============================] - 0s 5ms/step\n",
      "1/1 [==============================] - 0s 46ms/step\n",
      "65\n"
     ]
    }
   ],
   "source": [
    "## Predicciones\n",
    "y_pred = nn.predict(X_train).flatten()\n",
    "y_pred_test= nn.predict(X_test).flatten()\n",
    "\n",
    "print(len(y_pred))"
   ]
  },
  {
   "cell_type": "code",
   "execution_count": 294,
   "id": "c2151add-2a36-489e-bdc8-057c8a3ad373",
   "metadata": {},
   "outputs": [
    {
     "data": {
      "image/png": "[encoded data removed]",
      "text/plain": [
       "<Figure size 640x480 with 1 Axes>"
      ]
     },
     "metadata": {},
     "output_type": "display_data"
    }
   ],
   "source": [
    "import matplotlib.pyplot as plt\n",
    "\n",
    "# Plot de pérdida de entrenamiento y validación\n",
    "plt.plot(history.history['loss'], label='loss')\n",
    "plt.plot(history.history['val_loss'], label='val_loss')\n",
    "plt.xlabel('Epochs')\n",
    "plt.ylabel('Loss')\n",
    "plt.legend()\n",
    "plt.show()\n"
   ]
  },
  {
   "cell_type": "code",
   "execution_count": 295,
   "id": "0570e37f-2c03-4a41-a140-e25f197643fc",
   "metadata": {},
   "outputs": [],
   "source": [
    "from sklearn.metrics import r2_score\n",
    "from sklearn.metrics import mean_squared_error\n",
    "\n",
    "mse = mean_squared_error(y_test, y_pred_test)\n",
    "r2 = r2_score(y_test, y_pred_test)"
   ]
  },
  {
   "cell_type": "code",
   "execution_count": 296,
   "id": "1de9fc81-e9e7-4c5f-ad9f-07d83b8dc45a",
   "metadata": {},
   "outputs": [
    {
     "name": "stdout",
     "output_type": "stream",
     "text": [
      "-2.3818947248358264\n",
      "28.833870595140056\n"
     ]
    }
   ],
   "source": [
    "print(r2)\n",
    "print(mse)"
   ]
  },
  {
   "cell_type": "code",
   "execution_count": 297,
   "id": "ee6c61e6-d59f-4095-a16c-cc692daf8cd0",
   "metadata": {},
   "outputs": [
    {
     "data": {
      "image/png": "[encoded data removed]",
      "text/plain": [
       "<Figure size 640x480 with 1 Axes>"
      ]
     },
     "metadata": {},
     "output_type": "display_data"
    }
   ],
   "source": [
    "from sklearn.metrics import explained_variance_score, mean_absolute_error, mean_squared_error, r2_score\n",
    "\n",
    "fig, ax = plt.subplots()\n",
    "ax.scatter(y_train, y_pred, edgecolors=(0, 0, 0))\n",
    "ax.scatter(y_test, y_pred_test, color='red', edgecolors=(0, 0, 0))\n",
    "ax.plot([y_train.min(), y_train.max()], [y_train.min(), y_train.max()], 'k--', lw=3)\n",
    "plt.text(0.75, 0.2, f\"MSE: {mse:.5f}\", transform=plt.gca().transAxes)\n",
    "plt.text(0.75, 0.15, f\"R2: {r2:.5f}\", transform=plt.gca().transAxes)\n",
    "ax.set_xlabel('Measured')\n",
    "ax.set_ylabel('Predicted')\n",
    "plt.show()"
   ]
  },
  {
   "cell_type": "code",
   "execution_count": 298,
   "id": "deb916e8-24d2-494f-afb6-cc3f4268ee09",
   "metadata": {},
   "outputs": [
    {
     "data": {
      "image/png": "[encoded data removed]",
      "text/plain": [
       "<Figure size 640x480 with 1 Axes>"
      ]
     },
     "metadata": {},
     "output_type": "display_data"
    }
   ],
   "source": [
    "import matplotlib.pyplot as plt\n",
    "from sklearn.metrics import mean_squared_error, r2_score\n",
    "\n",
    "# Obtén los valores de mse y r2\n",
    "mse = mean_squared_error(y_test, y_pred_test)\n",
    "r2 = r2_score(y_test, y_pred_test)\n",
    "\n",
    "# Crea tu gráfica\n",
    "plt.plot(y_train, y_pred)  # Reemplaza x y y con tus datos de la gráfica\n",
    "\n",
    "# Agrega el texto en el costado de la gráfica\n",
    "plt.text(0.85, 0.9, f\"MSE: {mse:.2f}\", transform=plt.gca().transAxes)\n",
    "plt.text(0.85, 0.85, f\"R2: {r2:.2f}\", transform=plt.gca().transAxes)\n",
    "\n",
    "# Establece los límites del eje x y y según tus datos\n",
    "plt.xlim(min(y_train), max(y_train))  \n",
    "plt.ylim(min(y_pred), max(y_pred))\n",
    "\n",
    "# Muestra la gráfica\n",
    "plt.show()\n"
   ]
  },
  {
   "cell_type": "code",
   "execution_count": null,
   "id": "bf6cab39-f1bc-4b01-82d5-46390cceccbb",
   "metadata": {},
   "outputs": [],
   "source": []
  },
  {
   "cell_type": "code",
   "execution_count": null,
   "id": "d57f04fd-8b63-4445-bb48-690a01b867e3",
   "metadata": {},
   "outputs": [],
   "source": []
  }
 ],
 "metadata": {
  "kernelspec": {
   "display_name": "Python 3 (ipykernel)",
   "language": "python",
   "name": "python3"
  },
  "language_info": {
   "codemirror_mode": {
    "name": "ipython",
    "version": 3
   },
   "file_extension": ".py",
   "mimetype": "text/x-python",
   "name": "python",
   "nbconvert_exporter": "python",
   "pygments_lexer": "ipython3",
   "version": "3.7.13"
  }
 },
 "nbformat": 4,
 "nbformat_minor": 5
}
